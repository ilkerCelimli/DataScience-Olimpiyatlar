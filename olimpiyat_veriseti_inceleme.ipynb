{
 "cells": [
  {
   "metadata": {},
   "cell_type": "markdown",
   "source": [
    "# This is a sample Jupyter Notebook\n",
    "\n",
    "Below is an example of a code cell. \n",
    "Put your cursor into the cell and press Shift+Enter to execute it and select the next one, or click 'Run Cell' button.\n",
    "\n",
    "Press Double Shift to search everywhere for classes, files, tool windows, actions, and settings.\n",
    "\n",
    "To learn more about Jupyter Notebooks in PyCharm, see [help](https://www.jetbrains.com/help/pycharm/ipython-notebook-support.html).\n",
    "For an overview of PyCharm, go to Help -> Learn IDE features or refer to [our documentation](https://www.jetbrains.com/help/pycharm/getting-started.html)."
   ],
   "id": "8a77807f92f26ee"
  },
  {
   "metadata": {},
   "cell_type": "markdown",
   "source": "# Gerekli Verileri Import Etme\n",
   "id": "2226b80f2881434b"
  },
  {
   "metadata": {
    "ExecuteTime": {
     "end_time": "2025-01-24T08:43:24.986638Z",
     "start_time": "2025-01-24T08:43:23.071364Z"
    }
   },
   "cell_type": "code",
   "source": [
    "import pandas as pd\n",
    "import numpy as np\n",
    "import matplotlib.pyplot as plt\n",
    "from collections import Counter"
   ],
   "id": "487ab679dfa6677e",
   "outputs": [],
   "execution_count": 1
  },
  {
   "metadata": {},
   "cell_type": "markdown",
   "source": "# Veriyi Okuma",
   "id": "56418b16501a4681"
  },
  {
   "metadata": {
    "ExecuteTime": {
     "end_time": "2025-01-24T08:43:25.508113Z",
     "start_time": "2025-01-24T08:43:25.011690Z"
    }
   },
   "cell_type": "code",
   "source": [
    "df = pd.read_csv(\"./data/veriseti_20220203_olimpiyatlar.csv\", encoding=\"utf-8\")\n",
    "df.head()"
   ],
   "id": "5062ef3a835c794",
   "outputs": [
    {
     "data": {
      "text/plain": [
       "   ID                      Name Gender   Age  Height  Weight            Team  \\\n",
       "0   1                 A Dijiang      M  24.0   180.0    80.0           China   \n",
       "1   2                  A Lamusi      M  23.0   170.0    60.0           China   \n",
       "2   3       Gunnar Nielsen Aaby      M  24.0     NaN     NaN         Denmark   \n",
       "3   4      Edgar Lindenau Aabye      M  34.0     NaN     NaN  Denmark/Sweden   \n",
       "4   5  Christine Jacoba Aaftink      F  21.0   185.0    82.0     Netherlands   \n",
       "\n",
       "   NOC        Games  Year  Season       City          Sport  \\\n",
       "0  CHN  1992 Summer  1992  Summer  Barcelona     Basketball   \n",
       "1  CHN  2012 Summer  2012  Summer     London           Judo   \n",
       "2  DEN  1920 Summer  1920  Summer  Antwerpen       Football   \n",
       "3  DEN  1900 Summer  1900  Summer      Paris     Tug-Of-War   \n",
       "4  NED  1988 Winter  1988  Winter    Calgary  Speed Skating   \n",
       "\n",
       "                              Event Medal  \n",
       "0       Basketball Men's Basketball   NaN  \n",
       "1      Judo Men's Extra-Lightweight   NaN  \n",
       "2           Football Men's Football   NaN  \n",
       "3       Tug-Of-War Men's Tug-Of-War  Gold  \n",
       "4  Speed Skating Women's 500 metres   NaN  "
      ],
      "text/html": [
       "<div>\n",
       "<style scoped>\n",
       "    .dataframe tbody tr th:only-of-type {\n",
       "        vertical-align: middle;\n",
       "    }\n",
       "\n",
       "    .dataframe tbody tr th {\n",
       "        vertical-align: top;\n",
       "    }\n",
       "\n",
       "    .dataframe thead th {\n",
       "        text-align: right;\n",
       "    }\n",
       "</style>\n",
       "<table border=\"1\" class=\"dataframe\">\n",
       "  <thead>\n",
       "    <tr style=\"text-align: right;\">\n",
       "      <th></th>\n",
       "      <th>ID</th>\n",
       "      <th>Name</th>\n",
       "      <th>Gender</th>\n",
       "      <th>Age</th>\n",
       "      <th>Height</th>\n",
       "      <th>Weight</th>\n",
       "      <th>Team</th>\n",
       "      <th>NOC</th>\n",
       "      <th>Games</th>\n",
       "      <th>Year</th>\n",
       "      <th>Season</th>\n",
       "      <th>City</th>\n",
       "      <th>Sport</th>\n",
       "      <th>Event</th>\n",
       "      <th>Medal</th>\n",
       "    </tr>\n",
       "  </thead>\n",
       "  <tbody>\n",
       "    <tr>\n",
       "      <th>0</th>\n",
       "      <td>1</td>\n",
       "      <td>A Dijiang</td>\n",
       "      <td>M</td>\n",
       "      <td>24.0</td>\n",
       "      <td>180.0</td>\n",
       "      <td>80.0</td>\n",
       "      <td>China</td>\n",
       "      <td>CHN</td>\n",
       "      <td>1992 Summer</td>\n",
       "      <td>1992</td>\n",
       "      <td>Summer</td>\n",
       "      <td>Barcelona</td>\n",
       "      <td>Basketball</td>\n",
       "      <td>Basketball Men's Basketball</td>\n",
       "      <td>NaN</td>\n",
       "    </tr>\n",
       "    <tr>\n",
       "      <th>1</th>\n",
       "      <td>2</td>\n",
       "      <td>A Lamusi</td>\n",
       "      <td>M</td>\n",
       "      <td>23.0</td>\n",
       "      <td>170.0</td>\n",
       "      <td>60.0</td>\n",
       "      <td>China</td>\n",
       "      <td>CHN</td>\n",
       "      <td>2012 Summer</td>\n",
       "      <td>2012</td>\n",
       "      <td>Summer</td>\n",
       "      <td>London</td>\n",
       "      <td>Judo</td>\n",
       "      <td>Judo Men's Extra-Lightweight</td>\n",
       "      <td>NaN</td>\n",
       "    </tr>\n",
       "    <tr>\n",
       "      <th>2</th>\n",
       "      <td>3</td>\n",
       "      <td>Gunnar Nielsen Aaby</td>\n",
       "      <td>M</td>\n",
       "      <td>24.0</td>\n",
       "      <td>NaN</td>\n",
       "      <td>NaN</td>\n",
       "      <td>Denmark</td>\n",
       "      <td>DEN</td>\n",
       "      <td>1920 Summer</td>\n",
       "      <td>1920</td>\n",
       "      <td>Summer</td>\n",
       "      <td>Antwerpen</td>\n",
       "      <td>Football</td>\n",
       "      <td>Football Men's Football</td>\n",
       "      <td>NaN</td>\n",
       "    </tr>\n",
       "    <tr>\n",
       "      <th>3</th>\n",
       "      <td>4</td>\n",
       "      <td>Edgar Lindenau Aabye</td>\n",
       "      <td>M</td>\n",
       "      <td>34.0</td>\n",
       "      <td>NaN</td>\n",
       "      <td>NaN</td>\n",
       "      <td>Denmark/Sweden</td>\n",
       "      <td>DEN</td>\n",
       "      <td>1900 Summer</td>\n",
       "      <td>1900</td>\n",
       "      <td>Summer</td>\n",
       "      <td>Paris</td>\n",
       "      <td>Tug-Of-War</td>\n",
       "      <td>Tug-Of-War Men's Tug-Of-War</td>\n",
       "      <td>Gold</td>\n",
       "    </tr>\n",
       "    <tr>\n",
       "      <th>4</th>\n",
       "      <td>5</td>\n",
       "      <td>Christine Jacoba Aaftink</td>\n",
       "      <td>F</td>\n",
       "      <td>21.0</td>\n",
       "      <td>185.0</td>\n",
       "      <td>82.0</td>\n",
       "      <td>Netherlands</td>\n",
       "      <td>NED</td>\n",
       "      <td>1988 Winter</td>\n",
       "      <td>1988</td>\n",
       "      <td>Winter</td>\n",
       "      <td>Calgary</td>\n",
       "      <td>Speed Skating</td>\n",
       "      <td>Speed Skating Women's 500 metres</td>\n",
       "      <td>NaN</td>\n",
       "    </tr>\n",
       "  </tbody>\n",
       "</table>\n",
       "</div>"
      ]
     },
     "execution_count": 2,
     "metadata": {},
     "output_type": "execute_result"
    }
   ],
   "execution_count": 2
  },
  {
   "metadata": {},
   "cell_type": "markdown",
   "source": "# Veri Hakkında bilgi alma ve temizleme",
   "id": "da0a9e823e527349"
  },
  {
   "metadata": {
    "ExecuteTime": {
     "end_time": "2025-01-24T08:43:26.560766Z",
     "start_time": "2025-01-24T08:43:26.460743Z"
    }
   },
   "cell_type": "code",
   "source": "df.info()",
   "id": "2cc95a311c89ab12",
   "outputs": [
    {
     "name": "stdout",
     "output_type": "stream",
     "text": [
      "<class 'pandas.core.frame.DataFrame'>\n",
      "RangeIndex: 271116 entries, 0 to 271115\n",
      "Data columns (total 15 columns):\n",
      " #   Column  Non-Null Count   Dtype  \n",
      "---  ------  --------------   -----  \n",
      " 0   ID      271116 non-null  int64  \n",
      " 1   Name    271116 non-null  object \n",
      " 2   Gender  271116 non-null  object \n",
      " 3   Age     261642 non-null  float64\n",
      " 4   Height  210945 non-null  float64\n",
      " 5   Weight  208241 non-null  float64\n",
      " 6   Team    271116 non-null  object \n",
      " 7   NOC     271116 non-null  object \n",
      " 8   Games   271116 non-null  object \n",
      " 9   Year    271116 non-null  int64  \n",
      " 10  Season  271116 non-null  object \n",
      " 11  City    271116 non-null  object \n",
      " 12  Sport   271116 non-null  object \n",
      " 13  Event   271116 non-null  object \n",
      " 14  Medal   39783 non-null   object \n",
      "dtypes: float64(3), int64(2), object(10)\n",
      "memory usage: 31.0+ MB\n"
     ]
    }
   ],
   "execution_count": 3
  },
  {
   "metadata": {},
   "cell_type": "markdown",
   "source": "# Veri Temizlemesi",
   "id": "d41b6648de8795a6"
  },
  {
   "metadata": {
    "ExecuteTime": {
     "end_time": "2025-01-24T08:43:26.686845Z",
     "start_time": "2025-01-24T08:43:26.679715Z"
    }
   },
   "cell_type": "code",
   "source": "df.columns",
   "id": "4b00b229f939124f",
   "outputs": [
    {
     "data": {
      "text/plain": [
       "Index(['ID', 'Name', 'Gender', 'Age', 'Height', 'Weight', 'Team', 'NOC',\n",
       "       'Games', 'Year', 'Season', 'City', 'Sport', 'Event', 'Medal'],\n",
       "      dtype='object')"
      ]
     },
     "execution_count": 4,
     "metadata": {},
     "output_type": "execute_result"
    }
   ],
   "execution_count": 4
  },
  {
   "metadata": {
    "ExecuteTime": {
     "end_time": "2025-01-24T08:43:26.796076Z",
     "start_time": "2025-01-24T08:43:26.791550Z"
    }
   },
   "cell_type": "code",
   "source": "df.rename(columns={'ID':\"id\"}, inplace=True)",
   "id": "cc85203cb7a61569",
   "outputs": [],
   "execution_count": 5
  },
  {
   "metadata": {
    "ExecuteTime": {
     "end_time": "2025-01-24T08:43:26.835443Z",
     "start_time": "2025-01-24T08:43:26.829209Z"
    }
   },
   "cell_type": "code",
   "source": "df.columns",
   "id": "f3edc71f5ea8aa05",
   "outputs": [
    {
     "data": {
      "text/plain": [
       "Index(['id', 'Name', 'Gender', 'Age', 'Height', 'Weight', 'Team', 'NOC',\n",
       "       'Games', 'Year', 'Season', 'City', 'Sport', 'Event', 'Medal'],\n",
       "      dtype='object')"
      ]
     },
     "execution_count": 6,
     "metadata": {},
     "output_type": "execute_result"
    }
   ],
   "execution_count": 6
  },
  {
   "metadata": {},
   "cell_type": "markdown",
   "source": [
    "# Yararsız verilerin çıkarılması\n",
    "- id bilgisi yararlı bir bilgi verilmediği için çıkarılacaktır.\n"
   ],
   "id": "92e3dd905bf86f02"
  },
  {
   "metadata": {
    "ExecuteTime": {
     "end_time": "2025-01-24T08:43:26.961328Z",
     "start_time": "2025-01-24T08:43:26.915440Z"
    }
   },
   "cell_type": "code",
   "source": [
    "df.drop(columns=[\"id\",'Games'],axis=1) #axis = 1 Sutün\n",
    "df.head(2)"
   ],
   "id": "fe414442640e1137",
   "outputs": [
    {
     "data": {
      "text/plain": [
       "   id       Name Gender   Age  Height  Weight   Team  NOC        Games  Year  \\\n",
       "0   1  A Dijiang      M  24.0   180.0    80.0  China  CHN  1992 Summer  1992   \n",
       "1   2   A Lamusi      M  23.0   170.0    60.0  China  CHN  2012 Summer  2012   \n",
       "\n",
       "   Season       City       Sport                         Event Medal  \n",
       "0  Summer  Barcelona  Basketball   Basketball Men's Basketball   NaN  \n",
       "1  Summer     London        Judo  Judo Men's Extra-Lightweight   NaN  "
      ],
      "text/html": [
       "<div>\n",
       "<style scoped>\n",
       "    .dataframe tbody tr th:only-of-type {\n",
       "        vertical-align: middle;\n",
       "    }\n",
       "\n",
       "    .dataframe tbody tr th {\n",
       "        vertical-align: top;\n",
       "    }\n",
       "\n",
       "    .dataframe thead th {\n",
       "        text-align: right;\n",
       "    }\n",
       "</style>\n",
       "<table border=\"1\" class=\"dataframe\">\n",
       "  <thead>\n",
       "    <tr style=\"text-align: right;\">\n",
       "      <th></th>\n",
       "      <th>id</th>\n",
       "      <th>Name</th>\n",
       "      <th>Gender</th>\n",
       "      <th>Age</th>\n",
       "      <th>Height</th>\n",
       "      <th>Weight</th>\n",
       "      <th>Team</th>\n",
       "      <th>NOC</th>\n",
       "      <th>Games</th>\n",
       "      <th>Year</th>\n",
       "      <th>Season</th>\n",
       "      <th>City</th>\n",
       "      <th>Sport</th>\n",
       "      <th>Event</th>\n",
       "      <th>Medal</th>\n",
       "    </tr>\n",
       "  </thead>\n",
       "  <tbody>\n",
       "    <tr>\n",
       "      <th>0</th>\n",
       "      <td>1</td>\n",
       "      <td>A Dijiang</td>\n",
       "      <td>M</td>\n",
       "      <td>24.0</td>\n",
       "      <td>180.0</td>\n",
       "      <td>80.0</td>\n",
       "      <td>China</td>\n",
       "      <td>CHN</td>\n",
       "      <td>1992 Summer</td>\n",
       "      <td>1992</td>\n",
       "      <td>Summer</td>\n",
       "      <td>Barcelona</td>\n",
       "      <td>Basketball</td>\n",
       "      <td>Basketball Men's Basketball</td>\n",
       "      <td>NaN</td>\n",
       "    </tr>\n",
       "    <tr>\n",
       "      <th>1</th>\n",
       "      <td>2</td>\n",
       "      <td>A Lamusi</td>\n",
       "      <td>M</td>\n",
       "      <td>23.0</td>\n",
       "      <td>170.0</td>\n",
       "      <td>60.0</td>\n",
       "      <td>China</td>\n",
       "      <td>CHN</td>\n",
       "      <td>2012 Summer</td>\n",
       "      <td>2012</td>\n",
       "      <td>Summer</td>\n",
       "      <td>London</td>\n",
       "      <td>Judo</td>\n",
       "      <td>Judo Men's Extra-Lightweight</td>\n",
       "      <td>NaN</td>\n",
       "    </tr>\n",
       "  </tbody>\n",
       "</table>\n",
       "</div>"
      ]
     },
     "execution_count": 7,
     "metadata": {},
     "output_type": "execute_result"
    }
   ],
   "execution_count": 7
  },
  {
   "metadata": {},
   "cell_type": "markdown",
   "source": [
    "# Kayıp Veri Sorunu\n",
    "- Kayıp veri ile mücadele etmek için\n",
    "  1. Kayıp veriye ait örnekler veriden çıkartılabilir.\n",
    "  2. Kayıp veriler asıl verinin dağılımını bozmayacak şekilde asıl verinin ortalama yada medyan değerlerine göre doldurulabilir.\n",
    "- Bu veri üzerinde çalışma yapılırken\n",
    "    1. Boy-kilo sutünunda bulunan kayıp veriyi etkinlik ortalamasına göre dolduracağız.\n",
    "    2. yaş sutününda bulunan kayıp veriyi yaş ortalamasına göre dolduracağız.\n",
    "    3. Madalya alamayan sporcuları sütundan çıkartacağız.\n"
   ],
   "id": "cac9c17b31b95c13"
  },
  {
   "metadata": {},
   "cell_type": "markdown",
   "source": "# Boy-Kilo alanını doldurma",
   "id": "1d9800cf2012a9a5"
  },
  {
   "metadata": {
    "ExecuteTime": {
     "end_time": "2025-01-24T08:43:27.218253Z",
     "start_time": "2025-01-24T08:43:27.150565Z"
    }
   },
   "cell_type": "code",
   "source": [
    "\n",
    "unique_events = pd.unique(df.Event)\n",
    "print(f\"Unique Events : {len(unique_events)}\")\n",
    "unique_events[:10]"
   ],
   "id": "376a8dba2e47ef7",
   "outputs": [
    {
     "name": "stdout",
     "output_type": "stream",
     "text": [
      "Unique Events : 765\n"
     ]
    },
    {
     "data": {
      "text/plain": [
       "array([\"Basketball Men's Basketball\", \"Judo Men's Extra-Lightweight\",\n",
       "       \"Football Men's Football\", \"Tug-Of-War Men's Tug-Of-War\",\n",
       "       \"Speed Skating Women's 500 metres\",\n",
       "       \"Speed Skating Women's 1,000 metres\",\n",
       "       \"Cross Country Skiing Men's 10 kilometres\",\n",
       "       \"Cross Country Skiing Men's 50 kilometres\",\n",
       "       \"Cross Country Skiing Men's 10/15 kilometres Pursuit\",\n",
       "       \"Cross Country Skiing Men's 4 x 10 kilometres Relay\"], dtype=object)"
      ]
     },
     "execution_count": 8,
     "metadata": {},
     "output_type": "execute_result"
    }
   ],
   "execution_count": 8
  },
  {
   "metadata": {
    "ExecuteTime": {
     "end_time": "2025-01-24T09:14:45.446540Z",
     "start_time": "2025-01-24T09:13:18.737217Z"
    }
   },
   "cell_type": "code",
   "source": [
    "#Her bir eventi interaktif olarak dolaş\n",
    "#Etkinlik özelinde boy ve kilo ortalamalarını bul\n",
    "#Etkinlik özelinde boy ve kilo değerlerini etkinlik ortalamalarına eşitle\n",
    "\n",
    "temp_data = df.copy() # gerçek veriyi kaybetmemek için veri_gecici değişkeni belirle\n",
    "\n",
    "for event in unique_events:\n",
    "    avarege_height =  temp_data.where(temp_data[\"Event\"] == event)[\"Height\"].mean() #Data framedeki unique etkinlikleri dolaş ve bu etkinlikteki boy ortalamasını bul\n",
    "    avarage_weight = temp_data.where(temp_data[\"Event\"] == event)[\"Weight\"].mean() # Dataframedeki unique etkinlikleri dolaş ve bu etkinlikteki kilo ortalamasını bul\n",
    "    temp_data.fillna({\"Height\":avarege_height,\"Weight\":avarage_weight},inplace=True) #nan alanları ortalamalar ile doldur.\n",
    "df = temp_data.copy()\n",
    "df.info()"
   ],
   "id": "9be1a94605777a71",
   "outputs": [
    {
     "name": "stdout",
     "output_type": "stream",
     "text": [
      "<class 'pandas.core.frame.DataFrame'>\n",
      "RangeIndex: 271116 entries, 0 to 271115\n",
      "Data columns (total 16 columns):\n",
      " #   Column  Non-Null Count   Dtype  \n",
      "---  ------  --------------   -----  \n",
      " 0   id      271116 non-null  int64  \n",
      " 1   Name    271116 non-null  object \n",
      " 2   Gender  271116 non-null  object \n",
      " 3   Age     261642 non-null  float64\n",
      " 4   Height  271116 non-null  float64\n",
      " 5   Weight  271116 non-null  float64\n",
      " 6   Team    271116 non-null  object \n",
      " 7   NOC     271116 non-null  object \n",
      " 8   Games   271116 non-null  object \n",
      " 9   Year    271116 non-null  int64  \n",
      " 10  Season  271116 non-null  object \n",
      " 11  City    271116 non-null  object \n",
      " 12  Sport   271116 non-null  object \n",
      " 13  Event   271116 non-null  object \n",
      " 14  Medal   39783 non-null   object \n",
      " 15  weight  266456 non-null  float64\n",
      "dtypes: float64(4), int64(2), object(10)\n",
      "memory usage: 33.1+ MB\n"
     ]
    }
   ],
   "execution_count": 28
  },
  {
   "metadata": {},
   "cell_type": "markdown",
   "source": "# Yaş sutünündaki veriyi etkinlik bazında ortalamasına göre doldur.",
   "id": "470f0af4ab7d89d7"
  },
  {
   "metadata": {
    "ExecuteTime": {
     "end_time": "2025-01-24T09:24:20.390986Z",
     "start_time": "2025-01-24T09:23:39.043262Z"
    }
   },
   "cell_type": "code",
   "source": [
    "temp_data = df.copy()\n",
    "\n",
    "for event in unique_events:\n",
    "    avarege_age =  np.round(temp_data.where(temp_data[\"Event\"] == event)[\"Age\"].mean(),2)\n",
    "    temp_data.fillna({\"Age\":avarege_age},inplace=True)\n",
    "\n",
    "df = temp_data.copy()\n",
    "df.info()"
   ],
   "id": "c6825bfdc19bbde9",
   "outputs": [
    {
     "name": "stdout",
     "output_type": "stream",
     "text": [
      "<class 'pandas.core.frame.DataFrame'>\n",
      "RangeIndex: 271116 entries, 0 to 271115\n",
      "Data columns (total 16 columns):\n",
      " #   Column  Non-Null Count   Dtype  \n",
      "---  ------  --------------   -----  \n",
      " 0   id      271116 non-null  int64  \n",
      " 1   Name    271116 non-null  object \n",
      " 2   Gender  271116 non-null  object \n",
      " 3   Age     271116 non-null  float64\n",
      " 4   Height  271116 non-null  float64\n",
      " 5   Weight  271116 non-null  float64\n",
      " 6   Team    271116 non-null  object \n",
      " 7   NOC     271116 non-null  object \n",
      " 8   Games   271116 non-null  object \n",
      " 9   Year    271116 non-null  int64  \n",
      " 10  Season  271116 non-null  object \n",
      " 11  City    271116 non-null  object \n",
      " 12  Sport   271116 non-null  object \n",
      " 13  Event   271116 non-null  object \n",
      " 14  Medal   39783 non-null   object \n",
      " 15  weight  266456 non-null  float64\n",
      "dtypes: float64(4), int64(2), object(10)\n",
      "memory usage: 33.1+ MB\n"
     ]
    }
   ],
   "execution_count": 37
  },
  {
   "metadata": {},
   "cell_type": "markdown",
   "source": "# Sadece boş verilerin ortalama ile doldurulup doldurulmadığını kontrol etme",
   "id": "438cee8f4d894955"
  },
  {
   "metadata": {
    "ExecuteTime": {
     "end_time": "2025-01-24T09:21:29.738881Z",
     "start_time": "2025-01-24T09:21:29.668366Z"
    }
   },
   "cell_type": "code",
   "source": [
    "temp = df.where(df[\"Event\"] == \"Basketball Men's Basketball\")\n",
    "print(temp)"
   ],
   "id": "407d1771b6dc6577",
   "outputs": [
    {
     "name": "stdout",
     "output_type": "stream",
     "text": [
      "         id       Name Gender   Age      Height  Weight   Team  NOC  \\\n",
      "0       1.0  A Dijiang      M  24.0  194.872624    80.0  China  CHN   \n",
      "1       NaN        NaN    NaN   NaN         NaN     NaN    NaN  NaN   \n",
      "2       NaN        NaN    NaN   NaN         NaN     NaN    NaN  NaN   \n",
      "3       NaN        NaN    NaN   NaN         NaN     NaN    NaN  NaN   \n",
      "4       NaN        NaN    NaN   NaN         NaN     NaN    NaN  NaN   \n",
      "...     ...        ...    ...   ...         ...     ...    ...  ...   \n",
      "271111  NaN        NaN    NaN   NaN         NaN     NaN    NaN  NaN   \n",
      "271112  NaN        NaN    NaN   NaN         NaN     NaN    NaN  NaN   \n",
      "271113  NaN        NaN    NaN   NaN         NaN     NaN    NaN  NaN   \n",
      "271114  NaN        NaN    NaN   NaN         NaN     NaN    NaN  NaN   \n",
      "271115  NaN        NaN    NaN   NaN         NaN     NaN    NaN  NaN   \n",
      "\n",
      "              Games    Year  Season       City       Sport  \\\n",
      "0       1992 Summer  1992.0  Summer  Barcelona  Basketball   \n",
      "1               NaN     NaN     NaN        NaN         NaN   \n",
      "2               NaN     NaN     NaN        NaN         NaN   \n",
      "3               NaN     NaN     NaN        NaN         NaN   \n",
      "4               NaN     NaN     NaN        NaN         NaN   \n",
      "...             ...     ...     ...        ...         ...   \n",
      "271111          NaN     NaN     NaN        NaN         NaN   \n",
      "271112          NaN     NaN     NaN        NaN         NaN   \n",
      "271113          NaN     NaN     NaN        NaN         NaN   \n",
      "271114          NaN     NaN     NaN        NaN         NaN   \n",
      "271115          NaN     NaN     NaN        NaN         NaN   \n",
      "\n",
      "                              Event Medal     weight  \n",
      "0       Basketball Men's Basketball   NaN  91.683529  \n",
      "1                               NaN   NaN        NaN  \n",
      "2                               NaN   NaN        NaN  \n",
      "3                               NaN   NaN        NaN  \n",
      "4                               NaN   NaN        NaN  \n",
      "...                             ...   ...        ...  \n",
      "271111                          NaN   NaN        NaN  \n",
      "271112                          NaN   NaN        NaN  \n",
      "271113                          NaN   NaN        NaN  \n",
      "271114                          NaN   NaN        NaN  \n",
      "271115                          NaN   NaN        NaN  \n",
      "\n",
      "[271116 rows x 16 columns]\n"
     ]
    }
   ],
   "execution_count": 35
  },
  {
   "metadata": {},
   "cell_type": "markdown",
   "source": "# Madalya alamayan Sporcuları Çıkarma",
   "id": "c14e0a43e94eefd8"
  },
  {
   "metadata": {
    "ExecuteTime": {
     "end_time": "2025-01-24T09:26:29.302273Z",
     "start_time": "2025-01-24T09:26:29.292141Z"
    }
   },
   "cell_type": "code",
   "source": [
    "medal = df[\"Medal\"]\n",
    "pd.isnull(medal).sum()\n"
   ],
   "id": "d5f277fd43df3a3f",
   "outputs": [
    {
     "data": {
      "text/plain": [
       "231333"
      ]
     },
     "execution_count": 40,
     "metadata": {},
     "output_type": "execute_result"
    }
   ],
   "execution_count": 40
  },
  {
   "metadata": {
    "ExecuteTime": {
     "end_time": "2025-01-24T09:27:51.433560Z",
     "start_time": "2025-01-24T09:27:51.401577Z"
    }
   },
   "cell_type": "code",
   "source": [
    "medal_filter = pd.notnull(medal) # Null olmayanları bul\n",
    "df = df[medal_filter] #Null olmayan veriler ile tüm veriyi değiştir\n",
    "df.info()"
   ],
   "id": "a71b838de38c4fa2",
   "outputs": [
    {
     "name": "stdout",
     "output_type": "stream",
     "text": [
      "<class 'pandas.core.frame.DataFrame'>\n",
      "Index: 39783 entries, 3 to 271103\n",
      "Data columns (total 16 columns):\n",
      " #   Column  Non-Null Count  Dtype  \n",
      "---  ------  --------------  -----  \n",
      " 0   id      39783 non-null  int64  \n",
      " 1   Name    39783 non-null  object \n",
      " 2   Gender  39783 non-null  object \n",
      " 3   Age     39783 non-null  float64\n",
      " 4   Height  39783 non-null  float64\n",
      " 5   Weight  39783 non-null  float64\n",
      " 6   Team    39783 non-null  object \n",
      " 7   NOC     39783 non-null  object \n",
      " 8   Games   39783 non-null  object \n",
      " 9   Year    39783 non-null  int64  \n",
      " 10  Season  39783 non-null  object \n",
      " 11  City    39783 non-null  object \n",
      " 12  Sport   39783 non-null  object \n",
      " 13  Event   39783 non-null  object \n",
      " 14  Medal   39783 non-null  object \n",
      " 15  weight  38292 non-null  float64\n",
      "dtypes: float64(4), int64(2), object(10)\n",
      "memory usage: 5.2+ MB\n"
     ]
    }
   ],
   "execution_count": 42
  },
  {
   "metadata": {
    "ExecuteTime": {
     "end_time": "2025-01-24T09:28:08.924099Z",
     "start_time": "2025-01-24T09:28:08.911211Z"
    }
   },
   "cell_type": "code",
   "source": "df.head()",
   "id": "7b870e17525041a9",
   "outputs": [
    {
     "data": {
      "text/plain": [
       "    id                      Name Gender   Age      Height     Weight  \\\n",
       "3    4      Edgar Lindenau Aabye      M  34.0  182.480000  91.683529   \n",
       "37  15      Arvo Ossian Aaltonen      M  30.0  182.008432  91.683529   \n",
       "38  15      Arvo Ossian Aaltonen      M  30.0  177.000000  91.683529   \n",
       "40  16  Juhamatti Tapio Aaltonen      M  28.0  180.991444  85.000000   \n",
       "41  17   Paavo Johannes Aaltonen      M  28.0  167.634932  64.000000   \n",
       "\n",
       "              Team  NOC        Games  Year  Season       City       Sport  \\\n",
       "3   Denmark/Sweden  DEN  1900 Summer  1900  Summer      Paris  Tug-Of-War   \n",
       "37         Finland  FIN  1920 Summer  1920  Summer  Antwerpen    Swimming   \n",
       "38         Finland  FIN  1920 Summer  1920  Summer  Antwerpen    Swimming   \n",
       "40         Finland  FIN  2014 Winter  2014  Winter      Sochi  Ice Hockey   \n",
       "41         Finland  FIN  1948 Summer  1948  Summer     London  Gymnastics   \n",
       "\n",
       "                                     Event   Medal     weight  \n",
       "3              Tug-Of-War Men's Tug-Of-War    Gold  95.615385  \n",
       "37  Swimming Men's 200 metres Breaststroke  Bronze  76.694056  \n",
       "38  Swimming Men's 400 metres Breaststroke  Bronze  75.000000  \n",
       "40             Ice Hockey Men's Ice Hockey  Bronze  83.775593  \n",
       "41  Gymnastics Men's Individual All-Around  Bronze  63.348624  "
      ],
      "text/html": [
       "<div>\n",
       "<style scoped>\n",
       "    .dataframe tbody tr th:only-of-type {\n",
       "        vertical-align: middle;\n",
       "    }\n",
       "\n",
       "    .dataframe tbody tr th {\n",
       "        vertical-align: top;\n",
       "    }\n",
       "\n",
       "    .dataframe thead th {\n",
       "        text-align: right;\n",
       "    }\n",
       "</style>\n",
       "<table border=\"1\" class=\"dataframe\">\n",
       "  <thead>\n",
       "    <tr style=\"text-align: right;\">\n",
       "      <th></th>\n",
       "      <th>id</th>\n",
       "      <th>Name</th>\n",
       "      <th>Gender</th>\n",
       "      <th>Age</th>\n",
       "      <th>Height</th>\n",
       "      <th>Weight</th>\n",
       "      <th>Team</th>\n",
       "      <th>NOC</th>\n",
       "      <th>Games</th>\n",
       "      <th>Year</th>\n",
       "      <th>Season</th>\n",
       "      <th>City</th>\n",
       "      <th>Sport</th>\n",
       "      <th>Event</th>\n",
       "      <th>Medal</th>\n",
       "      <th>weight</th>\n",
       "    </tr>\n",
       "  </thead>\n",
       "  <tbody>\n",
       "    <tr>\n",
       "      <th>3</th>\n",
       "      <td>4</td>\n",
       "      <td>Edgar Lindenau Aabye</td>\n",
       "      <td>M</td>\n",
       "      <td>34.0</td>\n",
       "      <td>182.480000</td>\n",
       "      <td>91.683529</td>\n",
       "      <td>Denmark/Sweden</td>\n",
       "      <td>DEN</td>\n",
       "      <td>1900 Summer</td>\n",
       "      <td>1900</td>\n",
       "      <td>Summer</td>\n",
       "      <td>Paris</td>\n",
       "      <td>Tug-Of-War</td>\n",
       "      <td>Tug-Of-War Men's Tug-Of-War</td>\n",
       "      <td>Gold</td>\n",
       "      <td>95.615385</td>\n",
       "    </tr>\n",
       "    <tr>\n",
       "      <th>37</th>\n",
       "      <td>15</td>\n",
       "      <td>Arvo Ossian Aaltonen</td>\n",
       "      <td>M</td>\n",
       "      <td>30.0</td>\n",
       "      <td>182.008432</td>\n",
       "      <td>91.683529</td>\n",
       "      <td>Finland</td>\n",
       "      <td>FIN</td>\n",
       "      <td>1920 Summer</td>\n",
       "      <td>1920</td>\n",
       "      <td>Summer</td>\n",
       "      <td>Antwerpen</td>\n",
       "      <td>Swimming</td>\n",
       "      <td>Swimming Men's 200 metres Breaststroke</td>\n",
       "      <td>Bronze</td>\n",
       "      <td>76.694056</td>\n",
       "    </tr>\n",
       "    <tr>\n",
       "      <th>38</th>\n",
       "      <td>15</td>\n",
       "      <td>Arvo Ossian Aaltonen</td>\n",
       "      <td>M</td>\n",
       "      <td>30.0</td>\n",
       "      <td>177.000000</td>\n",
       "      <td>91.683529</td>\n",
       "      <td>Finland</td>\n",
       "      <td>FIN</td>\n",
       "      <td>1920 Summer</td>\n",
       "      <td>1920</td>\n",
       "      <td>Summer</td>\n",
       "      <td>Antwerpen</td>\n",
       "      <td>Swimming</td>\n",
       "      <td>Swimming Men's 400 metres Breaststroke</td>\n",
       "      <td>Bronze</td>\n",
       "      <td>75.000000</td>\n",
       "    </tr>\n",
       "    <tr>\n",
       "      <th>40</th>\n",
       "      <td>16</td>\n",
       "      <td>Juhamatti Tapio Aaltonen</td>\n",
       "      <td>M</td>\n",
       "      <td>28.0</td>\n",
       "      <td>180.991444</td>\n",
       "      <td>85.000000</td>\n",
       "      <td>Finland</td>\n",
       "      <td>FIN</td>\n",
       "      <td>2014 Winter</td>\n",
       "      <td>2014</td>\n",
       "      <td>Winter</td>\n",
       "      <td>Sochi</td>\n",
       "      <td>Ice Hockey</td>\n",
       "      <td>Ice Hockey Men's Ice Hockey</td>\n",
       "      <td>Bronze</td>\n",
       "      <td>83.775593</td>\n",
       "    </tr>\n",
       "    <tr>\n",
       "      <th>41</th>\n",
       "      <td>17</td>\n",
       "      <td>Paavo Johannes Aaltonen</td>\n",
       "      <td>M</td>\n",
       "      <td>28.0</td>\n",
       "      <td>167.634932</td>\n",
       "      <td>64.000000</td>\n",
       "      <td>Finland</td>\n",
       "      <td>FIN</td>\n",
       "      <td>1948 Summer</td>\n",
       "      <td>1948</td>\n",
       "      <td>Summer</td>\n",
       "      <td>London</td>\n",
       "      <td>Gymnastics</td>\n",
       "      <td>Gymnastics Men's Individual All-Around</td>\n",
       "      <td>Bronze</td>\n",
       "      <td>63.348624</td>\n",
       "    </tr>\n",
       "  </tbody>\n",
       "</table>\n",
       "</div>"
      ]
     },
     "execution_count": 43,
     "metadata": {},
     "output_type": "execute_result"
    }
   ],
   "execution_count": 43
  },
  {
   "metadata": {},
   "cell_type": "markdown",
   "source": "# Veriyi Kaydetme",
   "id": "1bc58ea8bf911891"
  },
  {
   "metadata": {
    "ExecuteTime": {
     "end_time": "2025-01-24T09:29:55.457398Z",
     "start_time": "2025-01-24T09:29:55.224640Z"
    }
   },
   "cell_type": "code",
   "source": "df.to_csv(\"./data/olimpiyatlar_clean.csv\",index=False)",
   "id": "37f24b9adfb282ec",
   "outputs": [],
   "execution_count": 44
  },
  {
   "metadata": {},
   "cell_type": "code",
   "outputs": [],
   "execution_count": null,
   "source": "",
   "id": "6af25cd0c17653e3"
  }
 ],
 "metadata": {
  "kernelspec": {
   "display_name": "Python 3",
   "language": "python",
   "name": "python3"
  },
  "language_info": {
   "codemirror_mode": {
    "name": "ipython",
    "version": 2
   },
   "file_extension": ".py",
   "mimetype": "text/x-python",
   "name": "python",
   "nbconvert_exporter": "python",
   "pygments_lexer": "ipython2",
   "version": "2.7.6"
  }
 },
 "nbformat": 4,
 "nbformat_minor": 5
}
