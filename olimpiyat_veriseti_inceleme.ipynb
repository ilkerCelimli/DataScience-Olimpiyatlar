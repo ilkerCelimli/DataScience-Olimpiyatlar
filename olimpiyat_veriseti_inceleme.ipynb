{
 "cells": [
  {
   "metadata": {},
   "cell_type": "markdown",
   "source": [
    "# This is a sample Jupyter Notebook\n",
    "\n",
    "Below is an example of a code cell. \n",
    "Put your cursor into the cell and press Shift+Enter to execute it and select the next one, or click 'Run Cell' button.\n",
    "\n",
    "Press Double Shift to search everywhere for classes, files, tool windows, actions, and settings.\n",
    "\n",
    "To learn more about Jupyter Notebooks in PyCharm, see [help](https://www.jetbrains.com/help/pycharm/ipython-notebook-support.html).\n",
    "For an overview of PyCharm, go to Help -> Learn IDE features or refer to [our documentation](https://www.jetbrains.com/help/pycharm/getting-started.html)."
   ],
   "id": "8a77807f92f26ee"
  },
  {
   "metadata": {},
   "cell_type": "markdown",
   "source": "# Gerekli Verileri Import Etme\n",
   "id": "2226b80f2881434b"
  },
  {
   "metadata": {
    "ExecuteTime": {
     "end_time": "2025-01-24T13:00:43.766056Z",
     "start_time": "2025-01-24T13:00:43.761020Z"
    }
   },
   "cell_type": "code",
   "source": [
    "import pandas as pd\n",
    "import numpy as np\n",
    "import matplotlib.pyplot as plt\n",
    "from collections import Counter\n",
    "\n",
    "from sympy import rotations\n",
    "from xarray.util.generate_ops import inplace"
   ],
   "id": "487ab679dfa6677e",
   "outputs": [],
   "execution_count": 80
  },
  {
   "metadata": {},
   "cell_type": "markdown",
   "source": "# Veriyi Okuma",
   "id": "56418b16501a4681"
  },
  {
   "metadata": {
    "ExecuteTime": {
     "end_time": "2025-01-24T13:00:44.198447Z",
     "start_time": "2025-01-24T13:00:43.800884Z"
    }
   },
   "cell_type": "code",
   "source": [
    "df = pd.read_csv(\"./data/veriseti_20220203_olimpiyatlar.csv\", encoding=\"utf-8\")\n",
    "df.head()"
   ],
   "id": "5062ef3a835c794",
   "outputs": [
    {
     "data": {
      "text/plain": [
       "   ID                      Name Gender   Age  Height  Weight            Team  \\\n",
       "0   1                 A Dijiang      M  24.0   180.0    80.0           China   \n",
       "1   2                  A Lamusi      M  23.0   170.0    60.0           China   \n",
       "2   3       Gunnar Nielsen Aaby      M  24.0     NaN     NaN         Denmark   \n",
       "3   4      Edgar Lindenau Aabye      M  34.0     NaN     NaN  Denmark/Sweden   \n",
       "4   5  Christine Jacoba Aaftink      F  21.0   185.0    82.0     Netherlands   \n",
       "\n",
       "   NOC        Games  Year  Season       City          Sport  \\\n",
       "0  CHN  1992 Summer  1992  Summer  Barcelona     Basketball   \n",
       "1  CHN  2012 Summer  2012  Summer     London           Judo   \n",
       "2  DEN  1920 Summer  1920  Summer  Antwerpen       Football   \n",
       "3  DEN  1900 Summer  1900  Summer      Paris     Tug-Of-War   \n",
       "4  NED  1988 Winter  1988  Winter    Calgary  Speed Skating   \n",
       "\n",
       "                              Event Medal  \n",
       "0       Basketball Men's Basketball   NaN  \n",
       "1      Judo Men's Extra-Lightweight   NaN  \n",
       "2           Football Men's Football   NaN  \n",
       "3       Tug-Of-War Men's Tug-Of-War  Gold  \n",
       "4  Speed Skating Women's 500 metres   NaN  "
      ],
      "text/html": [
       "<div>\n",
       "<style scoped>\n",
       "    .dataframe tbody tr th:only-of-type {\n",
       "        vertical-align: middle;\n",
       "    }\n",
       "\n",
       "    .dataframe tbody tr th {\n",
       "        vertical-align: top;\n",
       "    }\n",
       "\n",
       "    .dataframe thead th {\n",
       "        text-align: right;\n",
       "    }\n",
       "</style>\n",
       "<table border=\"1\" class=\"dataframe\">\n",
       "  <thead>\n",
       "    <tr style=\"text-align: right;\">\n",
       "      <th></th>\n",
       "      <th>ID</th>\n",
       "      <th>Name</th>\n",
       "      <th>Gender</th>\n",
       "      <th>Age</th>\n",
       "      <th>Height</th>\n",
       "      <th>Weight</th>\n",
       "      <th>Team</th>\n",
       "      <th>NOC</th>\n",
       "      <th>Games</th>\n",
       "      <th>Year</th>\n",
       "      <th>Season</th>\n",
       "      <th>City</th>\n",
       "      <th>Sport</th>\n",
       "      <th>Event</th>\n",
       "      <th>Medal</th>\n",
       "    </tr>\n",
       "  </thead>\n",
       "  <tbody>\n",
       "    <tr>\n",
       "      <th>0</th>\n",
       "      <td>1</td>\n",
       "      <td>A Dijiang</td>\n",
       "      <td>M</td>\n",
       "      <td>24.0</td>\n",
       "      <td>180.0</td>\n",
       "      <td>80.0</td>\n",
       "      <td>China</td>\n",
       "      <td>CHN</td>\n",
       "      <td>1992 Summer</td>\n",
       "      <td>1992</td>\n",
       "      <td>Summer</td>\n",
       "      <td>Barcelona</td>\n",
       "      <td>Basketball</td>\n",
       "      <td>Basketball Men's Basketball</td>\n",
       "      <td>NaN</td>\n",
       "    </tr>\n",
       "    <tr>\n",
       "      <th>1</th>\n",
       "      <td>2</td>\n",
       "      <td>A Lamusi</td>\n",
       "      <td>M</td>\n",
       "      <td>23.0</td>\n",
       "      <td>170.0</td>\n",
       "      <td>60.0</td>\n",
       "      <td>China</td>\n",
       "      <td>CHN</td>\n",
       "      <td>2012 Summer</td>\n",
       "      <td>2012</td>\n",
       "      <td>Summer</td>\n",
       "      <td>London</td>\n",
       "      <td>Judo</td>\n",
       "      <td>Judo Men's Extra-Lightweight</td>\n",
       "      <td>NaN</td>\n",
       "    </tr>\n",
       "    <tr>\n",
       "      <th>2</th>\n",
       "      <td>3</td>\n",
       "      <td>Gunnar Nielsen Aaby</td>\n",
       "      <td>M</td>\n",
       "      <td>24.0</td>\n",
       "      <td>NaN</td>\n",
       "      <td>NaN</td>\n",
       "      <td>Denmark</td>\n",
       "      <td>DEN</td>\n",
       "      <td>1920 Summer</td>\n",
       "      <td>1920</td>\n",
       "      <td>Summer</td>\n",
       "      <td>Antwerpen</td>\n",
       "      <td>Football</td>\n",
       "      <td>Football Men's Football</td>\n",
       "      <td>NaN</td>\n",
       "    </tr>\n",
       "    <tr>\n",
       "      <th>3</th>\n",
       "      <td>4</td>\n",
       "      <td>Edgar Lindenau Aabye</td>\n",
       "      <td>M</td>\n",
       "      <td>34.0</td>\n",
       "      <td>NaN</td>\n",
       "      <td>NaN</td>\n",
       "      <td>Denmark/Sweden</td>\n",
       "      <td>DEN</td>\n",
       "      <td>1900 Summer</td>\n",
       "      <td>1900</td>\n",
       "      <td>Summer</td>\n",
       "      <td>Paris</td>\n",
       "      <td>Tug-Of-War</td>\n",
       "      <td>Tug-Of-War Men's Tug-Of-War</td>\n",
       "      <td>Gold</td>\n",
       "    </tr>\n",
       "    <tr>\n",
       "      <th>4</th>\n",
       "      <td>5</td>\n",
       "      <td>Christine Jacoba Aaftink</td>\n",
       "      <td>F</td>\n",
       "      <td>21.0</td>\n",
       "      <td>185.0</td>\n",
       "      <td>82.0</td>\n",
       "      <td>Netherlands</td>\n",
       "      <td>NED</td>\n",
       "      <td>1988 Winter</td>\n",
       "      <td>1988</td>\n",
       "      <td>Winter</td>\n",
       "      <td>Calgary</td>\n",
       "      <td>Speed Skating</td>\n",
       "      <td>Speed Skating Women's 500 metres</td>\n",
       "      <td>NaN</td>\n",
       "    </tr>\n",
       "  </tbody>\n",
       "</table>\n",
       "</div>"
      ]
     },
     "execution_count": 81,
     "metadata": {},
     "output_type": "execute_result"
    }
   ],
   "execution_count": 81
  },
  {
   "metadata": {},
   "cell_type": "markdown",
   "source": "# Veri Hakkında bilgi alma ve temizleme",
   "id": "da0a9e823e527349"
  },
  {
   "metadata": {
    "ExecuteTime": {
     "end_time": "2025-01-24T13:00:44.319812Z",
     "start_time": "2025-01-24T13:00:44.238168Z"
    }
   },
   "cell_type": "code",
   "source": "df.info()",
   "id": "2cc95a311c89ab12",
   "outputs": [
    {
     "name": "stdout",
     "output_type": "stream",
     "text": [
      "<class 'pandas.core.frame.DataFrame'>\n",
      "RangeIndex: 271116 entries, 0 to 271115\n",
      "Data columns (total 15 columns):\n",
      " #   Column  Non-Null Count   Dtype  \n",
      "---  ------  --------------   -----  \n",
      " 0   ID      271116 non-null  int64  \n",
      " 1   Name    271116 non-null  object \n",
      " 2   Gender  271116 non-null  object \n",
      " 3   Age     261642 non-null  float64\n",
      " 4   Height  210945 non-null  float64\n",
      " 5   Weight  208241 non-null  float64\n",
      " 6   Team    271116 non-null  object \n",
      " 7   NOC     271116 non-null  object \n",
      " 8   Games   271116 non-null  object \n",
      " 9   Year    271116 non-null  int64  \n",
      " 10  Season  271116 non-null  object \n",
      " 11  City    271116 non-null  object \n",
      " 12  Sport   271116 non-null  object \n",
      " 13  Event   271116 non-null  object \n",
      " 14  Medal   39783 non-null   object \n",
      "dtypes: float64(3), int64(2), object(10)\n",
      "memory usage: 31.0+ MB\n"
     ]
    }
   ],
   "execution_count": 82
  },
  {
   "metadata": {},
   "cell_type": "markdown",
   "source": "# Veri Temizlemesi",
   "id": "d41b6648de8795a6"
  },
  {
   "metadata": {
    "ExecuteTime": {
     "end_time": "2025-01-24T13:00:44.368329Z",
     "start_time": "2025-01-24T13:00:44.362182Z"
    }
   },
   "cell_type": "code",
   "source": "df.columns",
   "id": "4b00b229f939124f",
   "outputs": [
    {
     "data": {
      "text/plain": [
       "Index(['ID', 'Name', 'Gender', 'Age', 'Height', 'Weight', 'Team', 'NOC',\n",
       "       'Games', 'Year', 'Season', 'City', 'Sport', 'Event', 'Medal'],\n",
       "      dtype='object')"
      ]
     },
     "execution_count": 83,
     "metadata": {},
     "output_type": "execute_result"
    }
   ],
   "execution_count": 83
  },
  {
   "metadata": {
    "ExecuteTime": {
     "end_time": "2025-01-24T13:00:44.446770Z",
     "start_time": "2025-01-24T13:00:44.443454Z"
    }
   },
   "cell_type": "code",
   "source": "df.rename(columns={'ID': \"id\"}, inplace=True)",
   "id": "cc85203cb7a61569",
   "outputs": [],
   "execution_count": 84
  },
  {
   "metadata": {
    "ExecuteTime": {
     "end_time": "2025-01-24T13:00:44.502839Z",
     "start_time": "2025-01-24T13:00:44.497236Z"
    }
   },
   "cell_type": "code",
   "source": "df.columns",
   "id": "f3edc71f5ea8aa05",
   "outputs": [
    {
     "data": {
      "text/plain": [
       "Index(['id', 'Name', 'Gender', 'Age', 'Height', 'Weight', 'Team', 'NOC',\n",
       "       'Games', 'Year', 'Season', 'City', 'Sport', 'Event', 'Medal'],\n",
       "      dtype='object')"
      ]
     },
     "execution_count": 85,
     "metadata": {},
     "output_type": "execute_result"
    }
   ],
   "execution_count": 85
  },
  {
   "metadata": {},
   "cell_type": "markdown",
   "source": [
    "# Yararsız verilerin çıkarılması\n",
    "- id bilgisi yararlı bir bilgi verilmediği için çıkarılacaktır.\n"
   ],
   "id": "92e3dd905bf86f02"
  },
  {
   "metadata": {
    "ExecuteTime": {
     "end_time": "2025-01-24T13:00:44.568202Z",
     "start_time": "2025-01-24T13:00:44.529612Z"
    }
   },
   "cell_type": "code",
   "source": [
    "df.drop(columns=[\"id\", 'Games'], axis=1)  #axis = 1 Sutün\n",
    "df.head(2)"
   ],
   "id": "fe414442640e1137",
   "outputs": [
    {
     "data": {
      "text/plain": [
       "   id       Name Gender   Age  Height  Weight   Team  NOC        Games  Year  \\\n",
       "0   1  A Dijiang      M  24.0   180.0    80.0  China  CHN  1992 Summer  1992   \n",
       "1   2   A Lamusi      M  23.0   170.0    60.0  China  CHN  2012 Summer  2012   \n",
       "\n",
       "   Season       City       Sport                         Event Medal  \n",
       "0  Summer  Barcelona  Basketball   Basketball Men's Basketball   NaN  \n",
       "1  Summer     London        Judo  Judo Men's Extra-Lightweight   NaN  "
      ],
      "text/html": [
       "<div>\n",
       "<style scoped>\n",
       "    .dataframe tbody tr th:only-of-type {\n",
       "        vertical-align: middle;\n",
       "    }\n",
       "\n",
       "    .dataframe tbody tr th {\n",
       "        vertical-align: top;\n",
       "    }\n",
       "\n",
       "    .dataframe thead th {\n",
       "        text-align: right;\n",
       "    }\n",
       "</style>\n",
       "<table border=\"1\" class=\"dataframe\">\n",
       "  <thead>\n",
       "    <tr style=\"text-align: right;\">\n",
       "      <th></th>\n",
       "      <th>id</th>\n",
       "      <th>Name</th>\n",
       "      <th>Gender</th>\n",
       "      <th>Age</th>\n",
       "      <th>Height</th>\n",
       "      <th>Weight</th>\n",
       "      <th>Team</th>\n",
       "      <th>NOC</th>\n",
       "      <th>Games</th>\n",
       "      <th>Year</th>\n",
       "      <th>Season</th>\n",
       "      <th>City</th>\n",
       "      <th>Sport</th>\n",
       "      <th>Event</th>\n",
       "      <th>Medal</th>\n",
       "    </tr>\n",
       "  </thead>\n",
       "  <tbody>\n",
       "    <tr>\n",
       "      <th>0</th>\n",
       "      <td>1</td>\n",
       "      <td>A Dijiang</td>\n",
       "      <td>M</td>\n",
       "      <td>24.0</td>\n",
       "      <td>180.0</td>\n",
       "      <td>80.0</td>\n",
       "      <td>China</td>\n",
       "      <td>CHN</td>\n",
       "      <td>1992 Summer</td>\n",
       "      <td>1992</td>\n",
       "      <td>Summer</td>\n",
       "      <td>Barcelona</td>\n",
       "      <td>Basketball</td>\n",
       "      <td>Basketball Men's Basketball</td>\n",
       "      <td>NaN</td>\n",
       "    </tr>\n",
       "    <tr>\n",
       "      <th>1</th>\n",
       "      <td>2</td>\n",
       "      <td>A Lamusi</td>\n",
       "      <td>M</td>\n",
       "      <td>23.0</td>\n",
       "      <td>170.0</td>\n",
       "      <td>60.0</td>\n",
       "      <td>China</td>\n",
       "      <td>CHN</td>\n",
       "      <td>2012 Summer</td>\n",
       "      <td>2012</td>\n",
       "      <td>Summer</td>\n",
       "      <td>London</td>\n",
       "      <td>Judo</td>\n",
       "      <td>Judo Men's Extra-Lightweight</td>\n",
       "      <td>NaN</td>\n",
       "    </tr>\n",
       "  </tbody>\n",
       "</table>\n",
       "</div>"
      ]
     },
     "execution_count": 86,
     "metadata": {},
     "output_type": "execute_result"
    }
   ],
   "execution_count": 86
  },
  {
   "metadata": {},
   "cell_type": "markdown",
   "source": [
    "# Kayıp Veri Sorunu\n",
    "- Kayıp veri ile mücadele etmek için\n",
    "  1. Kayıp veriye ait örnekler veriden çıkartılabilir.\n",
    "  2. Kayıp veriler asıl verinin dağılımını bozmayacak şekilde asıl verinin ortalama yada medyan değerlerine göre doldurulabilir.\n",
    "- Bu veri üzerinde çalışma yapılırken\n",
    "    1. Boy-kilo sutünunda bulunan kayıp veriyi etkinlik ortalamasına göre dolduracağız.\n",
    "    2. yaş sutününda bulunan kayıp veriyi yaş ortalamasına göre dolduracağız.\n",
    "    3. Madalya alamayan sporcuları sütundan çıkartacağız.\n"
   ],
   "id": "cac9c17b31b95c13"
  },
  {
   "metadata": {},
   "cell_type": "markdown",
   "source": "# Boy-Kilo alanını doldurma",
   "id": "1d9800cf2012a9a5"
  },
  {
   "metadata": {
    "ExecuteTime": {
     "end_time": "2025-01-24T13:00:44.665250Z",
     "start_time": "2025-01-24T13:00:44.633832Z"
    }
   },
   "cell_type": "code",
   "source": [
    "\n",
    "unique_events = pd.unique(df.Event)\n",
    "print(f\"Unique Events : {len(unique_events)}\")\n",
    "unique_events[:10]\n"
   ],
   "id": "376a8dba2e47ef7",
   "outputs": [
    {
     "name": "stdout",
     "output_type": "stream",
     "text": [
      "Unique Events : 765\n"
     ]
    },
    {
     "data": {
      "text/plain": [
       "array([\"Basketball Men's Basketball\", \"Judo Men's Extra-Lightweight\",\n",
       "       \"Football Men's Football\", \"Tug-Of-War Men's Tug-Of-War\",\n",
       "       \"Speed Skating Women's 500 metres\",\n",
       "       \"Speed Skating Women's 1,000 metres\",\n",
       "       \"Cross Country Skiing Men's 10 kilometres\",\n",
       "       \"Cross Country Skiing Men's 50 kilometres\",\n",
       "       \"Cross Country Skiing Men's 10/15 kilometres Pursuit\",\n",
       "       \"Cross Country Skiing Men's 4 x 10 kilometres Relay\"], dtype=object)"
      ]
     },
     "execution_count": 87,
     "metadata": {},
     "output_type": "execute_result"
    }
   ],
   "execution_count": 87
  },
  {
   "metadata": {
    "ExecuteTime": {
     "end_time": "2025-01-24T13:00:44.802228Z",
     "start_time": "2025-01-24T13:00:44.728726Z"
    }
   },
   "cell_type": "code",
   "source": [
    "# Calculate average Height and Weight for each event\n",
    "height_by_event = df.groupby('Event')['Height'].transform('mean')\n",
    "weight_by_event = df.groupby('Event')['Weight'].transform('mean')\n",
    "\n",
    "# Fill NaN values in Height and Weight columns with the respective event's average\n",
    "df['Height'] = df['Height'].fillna(height_by_event)\n",
    "df['Weight'] = df['Weight'].fillna(weight_by_event)"
   ],
   "id": "9be1a94605777a71",
   "outputs": [],
   "execution_count": 88
  },
  {
   "metadata": {},
   "cell_type": "markdown",
   "source": "# Yaş sutünündaki veriyi etkinlik bazında ortalamasına göre doldur.",
   "id": "470f0af4ab7d89d7"
  },
  {
   "metadata": {
    "ExecuteTime": {
     "end_time": "2025-01-24T13:00:45.074720Z",
     "start_time": "2025-01-24T13:00:44.832997Z"
    }
   },
   "cell_type": "code",
   "source": [
    "temp_data = df.copy()\n",
    "\n",
    "temp_data['Age'] = temp_data.groupby('Event')['Age'].transform(lambda x: x.fillna(x.mean()))\n",
    "df = temp_data\n",
    "df.info()"
   ],
   "id": "c6825bfdc19bbde9",
   "outputs": [
    {
     "name": "stdout",
     "output_type": "stream",
     "text": [
      "<class 'pandas.core.frame.DataFrame'>\n",
      "RangeIndex: 271116 entries, 0 to 271115\n",
      "Data columns (total 15 columns):\n",
      " #   Column  Non-Null Count   Dtype  \n",
      "---  ------  --------------   -----  \n",
      " 0   id      271116 non-null  int64  \n",
      " 1   Name    271116 non-null  object \n",
      " 2   Gender  271116 non-null  object \n",
      " 3   Age     270974 non-null  float64\n",
      " 4   Height  269033 non-null  float64\n",
      " 5   Weight  266456 non-null  float64\n",
      " 6   Team    271116 non-null  object \n",
      " 7   NOC     271116 non-null  object \n",
      " 8   Games   271116 non-null  object \n",
      " 9   Year    271116 non-null  int64  \n",
      " 10  Season  271116 non-null  object \n",
      " 11  City    271116 non-null  object \n",
      " 12  Sport   271116 non-null  object \n",
      " 13  Event   271116 non-null  object \n",
      " 14  Medal   39783 non-null   object \n",
      "dtypes: float64(3), int64(2), object(10)\n",
      "memory usage: 31.0+ MB\n"
     ]
    }
   ],
   "execution_count": 89
  },
  {
   "metadata": {},
   "cell_type": "markdown",
   "source": "# Sadece boş verilerin ortalama ile doldurulup doldurulmadığını kontrol etme",
   "id": "438cee8f4d894955"
  },
  {
   "metadata": {
    "ExecuteTime": {
     "end_time": "2025-01-24T13:00:45.156410Z",
     "start_time": "2025-01-24T13:00:45.097592Z"
    }
   },
   "cell_type": "code",
   "source": [
    "temp = df.where(df[\"Event\"] == \"Basketball Men's Basketball\")\n",
    "print(temp)"
   ],
   "id": "407d1771b6dc6577",
   "outputs": [
    {
     "name": "stdout",
     "output_type": "stream",
     "text": [
      "         id       Name Gender   Age  Height  Weight   Team  NOC        Games  \\\n",
      "0       1.0  A Dijiang      M  24.0   180.0    80.0  China  CHN  1992 Summer   \n",
      "1       NaN        NaN    NaN   NaN     NaN     NaN    NaN  NaN          NaN   \n",
      "2       NaN        NaN    NaN   NaN     NaN     NaN    NaN  NaN          NaN   \n",
      "3       NaN        NaN    NaN   NaN     NaN     NaN    NaN  NaN          NaN   \n",
      "4       NaN        NaN    NaN   NaN     NaN     NaN    NaN  NaN          NaN   \n",
      "...     ...        ...    ...   ...     ...     ...    ...  ...          ...   \n",
      "271111  NaN        NaN    NaN   NaN     NaN     NaN    NaN  NaN          NaN   \n",
      "271112  NaN        NaN    NaN   NaN     NaN     NaN    NaN  NaN          NaN   \n",
      "271113  NaN        NaN    NaN   NaN     NaN     NaN    NaN  NaN          NaN   \n",
      "271114  NaN        NaN    NaN   NaN     NaN     NaN    NaN  NaN          NaN   \n",
      "271115  NaN        NaN    NaN   NaN     NaN     NaN    NaN  NaN          NaN   \n",
      "\n",
      "          Year  Season       City       Sport                        Event  \\\n",
      "0       1992.0  Summer  Barcelona  Basketball  Basketball Men's Basketball   \n",
      "1          NaN     NaN        NaN         NaN                          NaN   \n",
      "2          NaN     NaN        NaN         NaN                          NaN   \n",
      "3          NaN     NaN        NaN         NaN                          NaN   \n",
      "4          NaN     NaN        NaN         NaN                          NaN   \n",
      "...        ...     ...        ...         ...                          ...   \n",
      "271111     NaN     NaN        NaN         NaN                          NaN   \n",
      "271112     NaN     NaN        NaN         NaN                          NaN   \n",
      "271113     NaN     NaN        NaN         NaN                          NaN   \n",
      "271114     NaN     NaN        NaN         NaN                          NaN   \n",
      "271115     NaN     NaN        NaN         NaN                          NaN   \n",
      "\n",
      "       Medal  \n",
      "0        NaN  \n",
      "1        NaN  \n",
      "2        NaN  \n",
      "3        NaN  \n",
      "4        NaN  \n",
      "...      ...  \n",
      "271111   NaN  \n",
      "271112   NaN  \n",
      "271113   NaN  \n",
      "271114   NaN  \n",
      "271115   NaN  \n",
      "\n",
      "[271116 rows x 15 columns]\n"
     ]
    }
   ],
   "execution_count": 90
  },
  {
   "metadata": {},
   "cell_type": "markdown",
   "source": "# Madalya alamayan Sporcuları Çıkarma",
   "id": "c14e0a43e94eefd8"
  },
  {
   "metadata": {
    "ExecuteTime": {
     "end_time": "2025-01-24T13:00:45.217700Z",
     "start_time": "2025-01-24T13:00:45.203434Z"
    }
   },
   "cell_type": "code",
   "source": [
    "medal = df[\"Medal\"]\n",
    "pd.isnull(medal).sum()\n"
   ],
   "id": "d5f277fd43df3a3f",
   "outputs": [
    {
     "data": {
      "text/plain": [
       "231333"
      ]
     },
     "execution_count": 91,
     "metadata": {},
     "output_type": "execute_result"
    }
   ],
   "execution_count": 91
  },
  {
   "metadata": {
    "ExecuteTime": {
     "end_time": "2025-01-24T13:00:45.275604Z",
     "start_time": "2025-01-24T13:00:45.241821Z"
    }
   },
   "cell_type": "code",
   "source": [
    "medal_filter = pd.notnull(medal)  # Null olmayanları bul\n",
    "df = df[medal_filter]  #Null olmayan veriler ile tüm veriyi değiştir\n",
    "df.info()"
   ],
   "id": "a71b838de38c4fa2",
   "outputs": [
    {
     "name": "stdout",
     "output_type": "stream",
     "text": [
      "<class 'pandas.core.frame.DataFrame'>\n",
      "Index: 39783 entries, 3 to 271103\n",
      "Data columns (total 15 columns):\n",
      " #   Column  Non-Null Count  Dtype  \n",
      "---  ------  --------------  -----  \n",
      " 0   id      39783 non-null  int64  \n",
      " 1   Name    39783 non-null  object \n",
      " 2   Gender  39783 non-null  object \n",
      " 3   Age     39690 non-null  float64\n",
      " 4   Height  39044 non-null  float64\n",
      " 5   Weight  38292 non-null  float64\n",
      " 6   Team    39783 non-null  object \n",
      " 7   NOC     39783 non-null  object \n",
      " 8   Games   39783 non-null  object \n",
      " 9   Year    39783 non-null  int64  \n",
      " 10  Season  39783 non-null  object \n",
      " 11  City    39783 non-null  object \n",
      " 12  Sport   39783 non-null  object \n",
      " 13  Event   39783 non-null  object \n",
      " 14  Medal   39783 non-null  object \n",
      "dtypes: float64(3), int64(2), object(10)\n",
      "memory usage: 4.9+ MB\n"
     ]
    }
   ],
   "execution_count": 92
  },
  {
   "metadata": {
    "ExecuteTime": {
     "end_time": "2025-01-24T13:00:45.317908Z",
     "start_time": "2025-01-24T13:00:45.306648Z"
    }
   },
   "cell_type": "code",
   "source": "df.head()",
   "id": "7b870e17525041a9",
   "outputs": [
    {
     "data": {
      "text/plain": [
       "    id                      Name Gender   Age      Height     Weight  \\\n",
       "3    4      Edgar Lindenau Aabye      M  34.0  182.480000  95.615385   \n",
       "37  15      Arvo Ossian Aaltonen      M  30.0  182.008432  76.694056   \n",
       "38  15      Arvo Ossian Aaltonen      M  30.0  177.000000  75.000000   \n",
       "40  16  Juhamatti Tapio Aaltonen      M  28.0  184.000000  85.000000   \n",
       "41  17   Paavo Johannes Aaltonen      M  28.0  175.000000  64.000000   \n",
       "\n",
       "              Team  NOC        Games  Year  Season       City       Sport  \\\n",
       "3   Denmark/Sweden  DEN  1900 Summer  1900  Summer      Paris  Tug-Of-War   \n",
       "37         Finland  FIN  1920 Summer  1920  Summer  Antwerpen    Swimming   \n",
       "38         Finland  FIN  1920 Summer  1920  Summer  Antwerpen    Swimming   \n",
       "40         Finland  FIN  2014 Winter  2014  Winter      Sochi  Ice Hockey   \n",
       "41         Finland  FIN  1948 Summer  1948  Summer     London  Gymnastics   \n",
       "\n",
       "                                     Event   Medal  \n",
       "3              Tug-Of-War Men's Tug-Of-War    Gold  \n",
       "37  Swimming Men's 200 metres Breaststroke  Bronze  \n",
       "38  Swimming Men's 400 metres Breaststroke  Bronze  \n",
       "40             Ice Hockey Men's Ice Hockey  Bronze  \n",
       "41  Gymnastics Men's Individual All-Around  Bronze  "
      ],
      "text/html": [
       "<div>\n",
       "<style scoped>\n",
       "    .dataframe tbody tr th:only-of-type {\n",
       "        vertical-align: middle;\n",
       "    }\n",
       "\n",
       "    .dataframe tbody tr th {\n",
       "        vertical-align: top;\n",
       "    }\n",
       "\n",
       "    .dataframe thead th {\n",
       "        text-align: right;\n",
       "    }\n",
       "</style>\n",
       "<table border=\"1\" class=\"dataframe\">\n",
       "  <thead>\n",
       "    <tr style=\"text-align: right;\">\n",
       "      <th></th>\n",
       "      <th>id</th>\n",
       "      <th>Name</th>\n",
       "      <th>Gender</th>\n",
       "      <th>Age</th>\n",
       "      <th>Height</th>\n",
       "      <th>Weight</th>\n",
       "      <th>Team</th>\n",
       "      <th>NOC</th>\n",
       "      <th>Games</th>\n",
       "      <th>Year</th>\n",
       "      <th>Season</th>\n",
       "      <th>City</th>\n",
       "      <th>Sport</th>\n",
       "      <th>Event</th>\n",
       "      <th>Medal</th>\n",
       "    </tr>\n",
       "  </thead>\n",
       "  <tbody>\n",
       "    <tr>\n",
       "      <th>3</th>\n",
       "      <td>4</td>\n",
       "      <td>Edgar Lindenau Aabye</td>\n",
       "      <td>M</td>\n",
       "      <td>34.0</td>\n",
       "      <td>182.480000</td>\n",
       "      <td>95.615385</td>\n",
       "      <td>Denmark/Sweden</td>\n",
       "      <td>DEN</td>\n",
       "      <td>1900 Summer</td>\n",
       "      <td>1900</td>\n",
       "      <td>Summer</td>\n",
       "      <td>Paris</td>\n",
       "      <td>Tug-Of-War</td>\n",
       "      <td>Tug-Of-War Men's Tug-Of-War</td>\n",
       "      <td>Gold</td>\n",
       "    </tr>\n",
       "    <tr>\n",
       "      <th>37</th>\n",
       "      <td>15</td>\n",
       "      <td>Arvo Ossian Aaltonen</td>\n",
       "      <td>M</td>\n",
       "      <td>30.0</td>\n",
       "      <td>182.008432</td>\n",
       "      <td>76.694056</td>\n",
       "      <td>Finland</td>\n",
       "      <td>FIN</td>\n",
       "      <td>1920 Summer</td>\n",
       "      <td>1920</td>\n",
       "      <td>Summer</td>\n",
       "      <td>Antwerpen</td>\n",
       "      <td>Swimming</td>\n",
       "      <td>Swimming Men's 200 metres Breaststroke</td>\n",
       "      <td>Bronze</td>\n",
       "    </tr>\n",
       "    <tr>\n",
       "      <th>38</th>\n",
       "      <td>15</td>\n",
       "      <td>Arvo Ossian Aaltonen</td>\n",
       "      <td>M</td>\n",
       "      <td>30.0</td>\n",
       "      <td>177.000000</td>\n",
       "      <td>75.000000</td>\n",
       "      <td>Finland</td>\n",
       "      <td>FIN</td>\n",
       "      <td>1920 Summer</td>\n",
       "      <td>1920</td>\n",
       "      <td>Summer</td>\n",
       "      <td>Antwerpen</td>\n",
       "      <td>Swimming</td>\n",
       "      <td>Swimming Men's 400 metres Breaststroke</td>\n",
       "      <td>Bronze</td>\n",
       "    </tr>\n",
       "    <tr>\n",
       "      <th>40</th>\n",
       "      <td>16</td>\n",
       "      <td>Juhamatti Tapio Aaltonen</td>\n",
       "      <td>M</td>\n",
       "      <td>28.0</td>\n",
       "      <td>184.000000</td>\n",
       "      <td>85.000000</td>\n",
       "      <td>Finland</td>\n",
       "      <td>FIN</td>\n",
       "      <td>2014 Winter</td>\n",
       "      <td>2014</td>\n",
       "      <td>Winter</td>\n",
       "      <td>Sochi</td>\n",
       "      <td>Ice Hockey</td>\n",
       "      <td>Ice Hockey Men's Ice Hockey</td>\n",
       "      <td>Bronze</td>\n",
       "    </tr>\n",
       "    <tr>\n",
       "      <th>41</th>\n",
       "      <td>17</td>\n",
       "      <td>Paavo Johannes Aaltonen</td>\n",
       "      <td>M</td>\n",
       "      <td>28.0</td>\n",
       "      <td>175.000000</td>\n",
       "      <td>64.000000</td>\n",
       "      <td>Finland</td>\n",
       "      <td>FIN</td>\n",
       "      <td>1948 Summer</td>\n",
       "      <td>1948</td>\n",
       "      <td>Summer</td>\n",
       "      <td>London</td>\n",
       "      <td>Gymnastics</td>\n",
       "      <td>Gymnastics Men's Individual All-Around</td>\n",
       "      <td>Bronze</td>\n",
       "    </tr>\n",
       "  </tbody>\n",
       "</table>\n",
       "</div>"
      ]
     },
     "execution_count": 93,
     "metadata": {},
     "output_type": "execute_result"
    }
   ],
   "execution_count": 93
  },
  {
   "metadata": {},
   "cell_type": "markdown",
   "source": "# Veriyi Kaydetme",
   "id": "1bc58ea8bf911891"
  },
  {
   "metadata": {
    "ExecuteTime": {
     "end_time": "2025-01-24T13:00:45.560826Z",
     "start_time": "2025-01-24T13:00:45.381128Z"
    }
   },
   "cell_type": "code",
   "source": "df.to_csv(\"./data/olimpiyatlar_clean.csv\", index=False)",
   "id": "37f24b9adfb282ec",
   "outputs": [],
   "execution_count": 94
  },
  {
   "metadata": {},
   "cell_type": "markdown",
   "source": [
    "# Tek Değişkenli Veri analizi\n",
    " - Sayısal değişkenler\n",
    "    1. Yaş\n",
    "    2. Boy\n",
    "    3. Kilo\n",
    "    4. Yıl\n",
    "  - Kategorik değişkenler\n",
    "    1. İsim\n",
    "    2. Cinsiyet\n",
    "    3. Takım\n",
    "    4. UOK\n",
    "    5. Sezon\n",
    "    6. Şehir\n",
    "    7. Spor\n",
    "    8. Etkinlik\n",
    "    9. Medalya\n",
    "  - Veri sıklığını anlamak için histogram çizilecek\n",
    "  - Temel istatistik bilgileri kutu grafiği sayesinde yorumlanacak\n"
   ],
   "id": "a712bb7211a044b3"
  },
  {
   "metadata": {
    "ExecuteTime": {
     "end_time": "2025-01-24T13:00:45.606946Z",
     "start_time": "2025-01-24T13:00:45.597413Z"
    }
   },
   "cell_type": "code",
   "source": [
    "# Öncelik olarak histogram grafikleri çizilecek bir fonksiyon yaz.\n",
    "def plot_histogram(column, df=df):\n",
    "    \"\"\"\n",
    "    Girdi: Değişken/Sutün ismi\n",
    "    Çıktı: Histogram\n",
    "    \"\"\"\n",
    "    plt.figure()\n",
    "    plt.hist(df[column], bins=100, color=\"orange\")\n",
    "    plt.xlabel(column)\n",
    "    plt.ylabel(\"Frequency\")\n",
    "    plt.title(f\"Distribution of {column}\")\n",
    "    plt.show()\n",
    "    print(np.mean(df[column]))"
   ],
   "id": "9c779cf225db9348",
   "outputs": [],
   "execution_count": 95
  },
  {
   "metadata": {
    "ExecuteTime": {
     "end_time": "2025-01-24T13:00:46.585136Z",
     "start_time": "2025-01-24T13:00:45.642239Z"
    }
   },
   "cell_type": "code",
   "source": [
    "# Tüm sayısal değişkenler için histogramı çizdir.\n",
    "\n",
    "numeric_variables = [\"Age\", \"Height\", \"Weight\", \"Year\"]\n",
    "df = pd.read_csv(\"./data/olimpiyatlar_clean.csv\")\n",
    "for variable in numeric_variables:\n",
    "    plot_histogram(variable, df)\n"
   ],
   "id": "a1d15dfae2442810",
   "outputs": [
    {
     "data": {
      "text/plain": [
       "<Figure size 640x480 with 1 Axes>"
      ],
      "image/png": "[encoded data removed]"
     },
     "metadata": {},
     "output_type": "display_data"
    },
    {
     "name": "stdout",
     "output_type": "stream",
     "text": [
      "25.95965160445829\n"
     ]
    },
    {
     "data": {
      "text/plain": [
       "<Figure size 640x480 with 1 Axes>"
      ],
      "image/png": "[encoded data removed]"
     },
     "metadata": {},
     "output_type": "display_data"
    },
    {
     "name": "stdout",
     "output_type": "stream",
     "text": [
      "177.3744786803621\n"
     ]
    },
    {
     "data": {
      "text/plain": [
       "<Figure size 640x480 with 1 Axes>"
      ],
      "image/png": "[encoded data removed]"
     },
     "metadata": {},
     "output_type": "display_data"
    },
    {
     "name": "stdout",
     "output_type": "stream",
     "text": [
      "73.85659950148633\n"
     ]
    },
    {
     "data": {
      "text/plain": [
       "<Figure size 640x480 with 1 Axes>"
      ],
      "image/png": "[encoded data removed]"
     },
     "metadata": {},
     "output_type": "display_data"
    },
    {
     "name": "stdout",
     "output_type": "stream",
     "text": [
      "1973.943845361084\n"
     ]
    }
   ],
   "execution_count": 96
  },
  {
   "metadata": {},
   "cell_type": "markdown",
   "source": [
    "- Beklenildiği gibi yaş kilo ve boy sutünları normal dağılıma yakın bir dağılım sözkonusu.Ancak Yaş Boy ve kilo'larda aykırılık var.\n",
    "- Yıl sutününda göze çarpan ise savaş yıllarında olimpiyatların yapılmadığı ve 21.yüzyılda daha sık araklıkla olimpiyatların yapılması"
   ],
   "id": "b80a08bf93054261"
  },
  {
   "metadata": {},
   "cell_type": "markdown",
   "source": [
    "- Sayısal verinin istatistik özellikleri\n",
    "    1. Örnek sayısı (count)\n",
    "    2. Ortalama (mean)\n",
    "    3. Standart Sapma(std)\n",
    "    4. Min değer (min)\n",
    "    5. Max değer (max)\n",
    "    6. %25  Birinci çeyrek\n",
    "    7. %75  Uçüncü birinci çeyrek\n",
    "    8. %50 Medyan"
   ],
   "id": "c1ff83158ec65925"
  },
  {
   "metadata": {
    "ExecuteTime": {
     "end_time": "2025-01-24T13:00:46.648616Z",
     "start_time": "2025-01-24T13:00:46.617045Z"
    }
   },
   "cell_type": "code",
   "source": "df.describe()",
   "id": "f1612c02a283f6b1",
   "outputs": [
    {
     "data": {
      "text/plain": [
       "                  id           Age        Height        Weight          Year\n",
       "count   39783.000000  39690.000000  39044.000000  38292.000000  39783.000000\n",
       "mean    69407.051806     25.959652    177.374479     73.856600   1973.943845\n",
       "std     38849.980737      5.919261     10.262250     14.235367     33.822857\n",
       "min         4.000000     10.000000    136.000000     28.000000   1896.000000\n",
       "25%     36494.000000     22.000000    170.000000     64.000000   1952.000000\n",
       "50%     68990.000000     25.000000    177.480339     73.086644   1984.000000\n",
       "75%    103461.500000     29.000000    184.000000     82.000000   2002.000000\n",
       "max    135563.000000     73.000000    223.000000    182.000000   2016.000000"
      ],
      "text/html": [
       "<div>\n",
       "<style scoped>\n",
       "    .dataframe tbody tr th:only-of-type {\n",
       "        vertical-align: middle;\n",
       "    }\n",
       "\n",
       "    .dataframe tbody tr th {\n",
       "        vertical-align: top;\n",
       "    }\n",
       "\n",
       "    .dataframe thead th {\n",
       "        text-align: right;\n",
       "    }\n",
       "</style>\n",
       "<table border=\"1\" class=\"dataframe\">\n",
       "  <thead>\n",
       "    <tr style=\"text-align: right;\">\n",
       "      <th></th>\n",
       "      <th>id</th>\n",
       "      <th>Age</th>\n",
       "      <th>Height</th>\n",
       "      <th>Weight</th>\n",
       "      <th>Year</th>\n",
       "    </tr>\n",
       "  </thead>\n",
       "  <tbody>\n",
       "    <tr>\n",
       "      <th>count</th>\n",
       "      <td>39783.000000</td>\n",
       "      <td>39690.000000</td>\n",
       "      <td>39044.000000</td>\n",
       "      <td>38292.000000</td>\n",
       "      <td>39783.000000</td>\n",
       "    </tr>\n",
       "    <tr>\n",
       "      <th>mean</th>\n",
       "      <td>69407.051806</td>\n",
       "      <td>25.959652</td>\n",
       "      <td>177.374479</td>\n",
       "      <td>73.856600</td>\n",
       "      <td>1973.943845</td>\n",
       "    </tr>\n",
       "    <tr>\n",
       "      <th>std</th>\n",
       "      <td>38849.980737</td>\n",
       "      <td>5.919261</td>\n",
       "      <td>10.262250</td>\n",
       "      <td>14.235367</td>\n",
       "      <td>33.822857</td>\n",
       "    </tr>\n",
       "    <tr>\n",
       "      <th>min</th>\n",
       "      <td>4.000000</td>\n",
       "      <td>10.000000</td>\n",
       "      <td>136.000000</td>\n",
       "      <td>28.000000</td>\n",
       "      <td>1896.000000</td>\n",
       "    </tr>\n",
       "    <tr>\n",
       "      <th>25%</th>\n",
       "      <td>36494.000000</td>\n",
       "      <td>22.000000</td>\n",
       "      <td>170.000000</td>\n",
       "      <td>64.000000</td>\n",
       "      <td>1952.000000</td>\n",
       "    </tr>\n",
       "    <tr>\n",
       "      <th>50%</th>\n",
       "      <td>68990.000000</td>\n",
       "      <td>25.000000</td>\n",
       "      <td>177.480339</td>\n",
       "      <td>73.086644</td>\n",
       "      <td>1984.000000</td>\n",
       "    </tr>\n",
       "    <tr>\n",
       "      <th>75%</th>\n",
       "      <td>103461.500000</td>\n",
       "      <td>29.000000</td>\n",
       "      <td>184.000000</td>\n",
       "      <td>82.000000</td>\n",
       "      <td>2002.000000</td>\n",
       "    </tr>\n",
       "    <tr>\n",
       "      <th>max</th>\n",
       "      <td>135563.000000</td>\n",
       "      <td>73.000000</td>\n",
       "      <td>223.000000</td>\n",
       "      <td>182.000000</td>\n",
       "      <td>2016.000000</td>\n",
       "    </tr>\n",
       "  </tbody>\n",
       "</table>\n",
       "</div>"
      ]
     },
     "execution_count": 97,
     "metadata": {},
     "output_type": "execute_result"
    }
   ],
   "execution_count": 97
  },
  {
   "metadata": {
    "ExecuteTime": {
     "end_time": "2025-01-24T13:00:46.814822Z",
     "start_time": "2025-01-24T13:00:46.712491Z"
    }
   },
   "cell_type": "code",
   "source": [
    "plt.boxplot(df.Age)\n",
    "plt.title(\"Age variables Box graph\")\n",
    "plt.xlabel(\"Age\")\n",
    "plt.ylabel(\"Variable\")\n",
    "plt.show()\n"
   ],
   "id": "cc82cc3c9abc2507",
   "outputs": [
    {
     "data": {
      "text/plain": [
       "<Figure size 640x480 with 1 Axes>"
      ],
      "image/png": "[encoded data removed]"
     },
     "metadata": {},
     "output_type": "display_data"
    }
   ],
   "execution_count": 98
  },
  {
   "metadata": {},
   "cell_type": "markdown",
   "source": "- 10'lu yaşlarda madalya kazanan ve 40 yaş üstü madalya kazanan aykırılıklar var.",
   "id": "810d010ef4f9e488"
  },
  {
   "metadata": {},
   "cell_type": "markdown",
   "source": [
    "# Kategorik değişkenler\n",
    "   - Veri içeirisinde 9 adet Kategorik değişken bulunmaktadır.\n",
    "        1. İsim\n",
    "        2. Cinsiyet\n",
    "        3. Takım\n",
    "        4. UOK\n",
    "        5. Sezon\n",
    "        6. Şehir\n",
    "        7. Spor\n",
    "        8. Etkinlik\n",
    "        9. Medalya\n",
    "   - Kategorik değişkenleri incelemek ve yorumlamak için bar grafiği kullanılacak\n"
   ],
   "id": "50954fda0cd95094"
  },
  {
   "metadata": {
    "ExecuteTime": {
     "end_time": "2025-01-24T13:00:46.858958Z",
     "start_time": "2025-01-24T13:00:46.854462Z"
    }
   },
   "cell_type": "code",
   "source": [
    "def plot_bar(column, n=5):\n",
    "    \"\"\"\n",
    "    :param column: sutün ismi\n",
    "    :param n:Gösterilecek  En sık rastlanan eşsiz değer sayısı\n",
    "    \"\"\"\n",
    "    data = df[column]\n",
    "    data_counts = df[column].value_counts()\n",
    "    data_counts = data_counts[:n]\n",
    "    plt.figure()\n",
    "    plt.bar(data_counts.index, data_counts, color=\"blue\")\n",
    "    plt.xticks(data_counts.index, data_counts.index.values)\n",
    "    plt.xticks(rotation=45)\n",
    "    plt.ylabel(\"Frequency\")\n",
    "    plt.title(f\"Distribution of {column}\")\n",
    "    plt.show()\n",
    "    print(f\"{column} : {data_counts}\")"
   ],
   "id": "eb5b4187887b803f",
   "outputs": [],
   "execution_count": 99
  },
  {
   "metadata": {
    "ExecuteTime": {
     "end_time": "2025-01-24T13:00:47.767519Z",
     "start_time": "2025-01-24T13:00:46.913341Z"
    }
   },
   "cell_type": "code",
   "source": [
    "category_variables = {\"Name\", \"Gender\", \"Team\", \"NOC\", \"Year\", \"City\", \"Sport\", \"Event\", \"Medal\"}\n",
    "for i in category_variables:\n",
    "    plot_bar(i)"
   ],
   "id": "f033b6742f01c784",
   "outputs": [
    {
     "data": {
      "text/plain": [
       "<Figure size 640x480 with 1 Axes>"
      ],
      "image/png": "[encoded data removed]"
     },
     "metadata": {},
     "output_type": "display_data"
    },
    {
     "name": "stdout",
     "output_type": "stream",
     "text": [
      "Team : Team\n",
      "United States    5219\n",
      "Soviet Union     2451\n",
      "Germany          1984\n",
      "Great Britain    1673\n",
      "France           1550\n",
      "Name: count, dtype: int64\n"
     ]
    },
    {
     "data": {
      "text/plain": [
       "<Figure size 640x480 with 1 Axes>"
      ],
      "image/png": "[encoded data removed]"
     },
     "metadata": {},
     "output_type": "display_data"
    },
    {
     "name": "stdout",
     "output_type": "stream",
     "text": [
      "Gender : Gender\n",
      "M    28530\n",
      "F    11253\n",
      "Name: count, dtype: int64\n"
     ]
    },
    {
     "data": {
      "text/plain": [
       "<Figure size 640x480 with 1 Axes>"
      ],
      "image/png": "[encoded data removed]"
     },
     "metadata": {},
     "output_type": "display_data"
    },
    {
     "name": "stdout",
     "output_type": "stream",
     "text": [
      "Medal : Medal\n",
      "Gold      13372\n",
      "Bronze    13295\n",
      "Silver    13116\n",
      "Name: count, dtype: int64\n"
     ]
    },
    {
     "data": {
      "text/plain": [
       "<Figure size 640x480 with 1 Axes>"
      ],
      "image/png": "[encoded data removed]"
     },
     "metadata": {},
     "output_type": "display_data"
    },
    {
     "name": "stdout",
     "output_type": "stream",
     "text": [
      "Event : Event\n",
      "Football Men's Football        1269\n",
      "Ice Hockey Men's Ice Hockey    1230\n",
      "Hockey Men's Hockey            1050\n",
      "Water Polo Men's Water Polo     866\n",
      "Rowing Men's Coxed Eights       730\n",
      "Name: count, dtype: int64\n"
     ]
    },
    {
     "data": {
      "text/plain": [
       "<Figure size 640x480 with 1 Axes>"
      ],
      "image/png": "[encoded data removed]"
     },
     "metadata": {},
     "output_type": "display_data"
    },
    {
     "name": "stdout",
     "output_type": "stream",
     "text": [
      "Sport : Sport\n",
      "Athletics     3969\n",
      "Swimming      3048\n",
      "Rowing        2945\n",
      "Gymnastics    2256\n",
      "Fencing       1743\n",
      "Name: count, dtype: int64\n"
     ]
    },
    {
     "data": {
      "text/plain": [
       "<Figure size 640x480 with 1 Axes>"
      ],
      "image/png": "[encoded data removed]"
     },
     "metadata": {},
     "output_type": "display_data"
    },
    {
     "name": "stdout",
     "output_type": "stream",
     "text": [
      "NOC : NOC\n",
      "USA    5637\n",
      "URS    2503\n",
      "GER    2165\n",
      "GBR    2068\n",
      "FRA    1777\n",
      "Name: count, dtype: int64\n"
     ]
    },
    {
     "data": {
      "text/plain": [
       "<Figure size 640x480 with 1 Axes>"
      ],
      "image/png": "[encoded data removed]"
     },
     "metadata": {},
     "output_type": "display_data"
    },
    {
     "name": "stdout",
     "output_type": "stream",
     "text": [
      "City : City\n",
      "London            3624\n",
      "Athina            2602\n",
      "Los Angeles       2123\n",
      "Beijing           2048\n",
      "Rio de Janeiro    2023\n",
      "Name: count, dtype: int64\n"
     ]
    },
    {
     "data": {
      "text/plain": [
       "<Figure size 640x480 with 1 Axes>"
      ],
      "image/png": "[encoded data removed]"
     },
     "metadata": {},
     "output_type": "display_data"
    },
    {
     "name": "stdout",
     "output_type": "stream",
     "text": [
      "Name : Name\n",
      "Michael Fred Phelps, II               28\n",
      "Larysa Semenivna Latynina (Diriy-)    18\n",
      "Nikolay Yefimovich Andrianov          15\n",
      "Ole Einar Bjrndalen                   13\n",
      "Edoardo Mangiarotti                   13\n",
      "Name: count, dtype: int64\n"
     ]
    },
    {
     "data": {
      "text/plain": [
       "<Figure size 640x480 with 1 Axes>"
      ],
      "image/png": "[encoded data removed]"
     },
     "metadata": {},
     "output_type": "display_data"
    },
    {
     "name": "stdout",
     "output_type": "stream",
     "text": [
      "Year : Year\n",
      "2008    2048\n",
      "1992    2030\n",
      "2016    2023\n",
      "2000    2004\n",
      "2004    2001\n",
      "Name: count, dtype: int64\n"
     ]
    }
   ],
   "execution_count": 100
  },
  {
   "metadata": {},
   "cell_type": "markdown",
   "source": [
    "# İki değişkenli Veri Analizi\n",
    "  1. Cinsiyete göre boy-kilo karşılaştırması\n",
    "  2. Sayısal Sutünlar arası ilişkinin incelenmesi.\n",
    "  3. Madalya ve yaş arasındaki ilişkinin incelenmesi\n",
    "   4. Takımların kazandıkları altın gümüş ve bronz madalya sayıları\n",
    "   5. Kazanan madalyaların hangi şehirlerde kazanıldığı\n",
    "   6. Cinsiyete göre altın gümüş ve bronz madalya sayıları"
   ],
   "id": "864e3f52f80fc417"
  },
  {
   "metadata": {},
   "cell_type": "markdown",
   "source": "# Cinsiyete göre boy-kilo karşılaştırması",
   "id": "e14b69d4ff687c0"
  },
  {
   "metadata": {
    "ExecuteTime": {
     "end_time": "2025-01-24T13:00:47.811329Z",
     "start_time": "2025-01-24T13:00:47.793793Z"
    }
   },
   "cell_type": "code",
   "source": [
    "male = df[df.Gender == \"M\"]\n",
    "male.head(3)"
   ],
   "id": "70a14e35a3c9c69b",
   "outputs": [
    {
     "data": {
      "text/plain": [
       "   id                  Name Gender   Age      Height     Weight  \\\n",
       "0   4  Edgar Lindenau Aabye      M  34.0  182.480000  95.615385   \n",
       "1  15  Arvo Ossian Aaltonen      M  30.0  182.008432  76.694056   \n",
       "2  15  Arvo Ossian Aaltonen      M  30.0  177.000000  75.000000   \n",
       "\n",
       "             Team  NOC        Games  Year  Season       City       Sport  \\\n",
       "0  Denmark/Sweden  DEN  1900 Summer  1900  Summer      Paris  Tug-Of-War   \n",
       "1         Finland  FIN  1920 Summer  1920  Summer  Antwerpen    Swimming   \n",
       "2         Finland  FIN  1920 Summer  1920  Summer  Antwerpen    Swimming   \n",
       "\n",
       "                                    Event   Medal  \n",
       "0             Tug-Of-War Men's Tug-Of-War    Gold  \n",
       "1  Swimming Men's 200 metres Breaststroke  Bronze  \n",
       "2  Swimming Men's 400 metres Breaststroke  Bronze  "
      ],
      "text/html": [
       "<div>\n",
       "<style scoped>\n",
       "    .dataframe tbody tr th:only-of-type {\n",
       "        vertical-align: middle;\n",
       "    }\n",
       "\n",
       "    .dataframe tbody tr th {\n",
       "        vertical-align: top;\n",
       "    }\n",
       "\n",
       "    .dataframe thead th {\n",
       "        text-align: right;\n",
       "    }\n",
       "</style>\n",
       "<table border=\"1\" class=\"dataframe\">\n",
       "  <thead>\n",
       "    <tr style=\"text-align: right;\">\n",
       "      <th></th>\n",
       "      <th>id</th>\n",
       "      <th>Name</th>\n",
       "      <th>Gender</th>\n",
       "      <th>Age</th>\n",
       "      <th>Height</th>\n",
       "      <th>Weight</th>\n",
       "      <th>Team</th>\n",
       "      <th>NOC</th>\n",
       "      <th>Games</th>\n",
       "      <th>Year</th>\n",
       "      <th>Season</th>\n",
       "      <th>City</th>\n",
       "      <th>Sport</th>\n",
       "      <th>Event</th>\n",
       "      <th>Medal</th>\n",
       "    </tr>\n",
       "  </thead>\n",
       "  <tbody>\n",
       "    <tr>\n",
       "      <th>0</th>\n",
       "      <td>4</td>\n",
       "      <td>Edgar Lindenau Aabye</td>\n",
       "      <td>M</td>\n",
       "      <td>34.0</td>\n",
       "      <td>182.480000</td>\n",
       "      <td>95.615385</td>\n",
       "      <td>Denmark/Sweden</td>\n",
       "      <td>DEN</td>\n",
       "      <td>1900 Summer</td>\n",
       "      <td>1900</td>\n",
       "      <td>Summer</td>\n",
       "      <td>Paris</td>\n",
       "      <td>Tug-Of-War</td>\n",
       "      <td>Tug-Of-War Men's Tug-Of-War</td>\n",
       "      <td>Gold</td>\n",
       "    </tr>\n",
       "    <tr>\n",
       "      <th>1</th>\n",
       "      <td>15</td>\n",
       "      <td>Arvo Ossian Aaltonen</td>\n",
       "      <td>M</td>\n",
       "      <td>30.0</td>\n",
       "      <td>182.008432</td>\n",
       "      <td>76.694056</td>\n",
       "      <td>Finland</td>\n",
       "      <td>FIN</td>\n",
       "      <td>1920 Summer</td>\n",
       "      <td>1920</td>\n",
       "      <td>Summer</td>\n",
       "      <td>Antwerpen</td>\n",
       "      <td>Swimming</td>\n",
       "      <td>Swimming Men's 200 metres Breaststroke</td>\n",
       "      <td>Bronze</td>\n",
       "    </tr>\n",
       "    <tr>\n",
       "      <th>2</th>\n",
       "      <td>15</td>\n",
       "      <td>Arvo Ossian Aaltonen</td>\n",
       "      <td>M</td>\n",
       "      <td>30.0</td>\n",
       "      <td>177.000000</td>\n",
       "      <td>75.000000</td>\n",
       "      <td>Finland</td>\n",
       "      <td>FIN</td>\n",
       "      <td>1920 Summer</td>\n",
       "      <td>1920</td>\n",
       "      <td>Summer</td>\n",
       "      <td>Antwerpen</td>\n",
       "      <td>Swimming</td>\n",
       "      <td>Swimming Men's 400 metres Breaststroke</td>\n",
       "      <td>Bronze</td>\n",
       "    </tr>\n",
       "  </tbody>\n",
       "</table>\n",
       "</div>"
      ]
     },
     "execution_count": 101,
     "metadata": {},
     "output_type": "execute_result"
    }
   ],
   "execution_count": 101
  },
  {
   "metadata": {
    "ExecuteTime": {
     "end_time": "2025-01-24T13:00:47.883227Z",
     "start_time": "2025-01-24T13:00:47.866886Z"
    }
   },
   "cell_type": "code",
   "source": [
    "female = df[df[\"Gender\"] == \"F\"]\n",
    "female.head(3)"
   ],
   "id": "9e3820c92671db52",
   "outputs": [
    {
     "data": {
      "text/plain": [
       "    id                       Name Gender   Age      Height     Weight  \\\n",
       "17  21  Ragnhild Margrethe Aamodt      F  27.0  163.000000  68.876851   \n",
       "19  29       Willemien Aardenburg      F  22.0  166.125267  60.530935   \n",
       "21  37         Ann Kristin Aarnes      F  23.0  182.000000  64.000000   \n",
       "\n",
       "           Team  NOC        Games  Year  Season     City     Sport  \\\n",
       "17       Norway  NOR  2008 Summer  2008  Summer  Beijing  Handball   \n",
       "19  Netherlands  NED  1988 Summer  1988  Summer    Seoul    Hockey   \n",
       "21       Norway  NOR  1996 Summer  1996  Summer  Atlanta  Football   \n",
       "\n",
       "                        Event   Medal  \n",
       "17  Handball Women's Handball    Gold  \n",
       "19      Hockey Women's Hockey  Bronze  \n",
       "21  Football Women's Football  Bronze  "
      ],
      "text/html": [
       "<div>\n",
       "<style scoped>\n",
       "    .dataframe tbody tr th:only-of-type {\n",
       "        vertical-align: middle;\n",
       "    }\n",
       "\n",
       "    .dataframe tbody tr th {\n",
       "        vertical-align: top;\n",
       "    }\n",
       "\n",
       "    .dataframe thead th {\n",
       "        text-align: right;\n",
       "    }\n",
       "</style>\n",
       "<table border=\"1\" class=\"dataframe\">\n",
       "  <thead>\n",
       "    <tr style=\"text-align: right;\">\n",
       "      <th></th>\n",
       "      <th>id</th>\n",
       "      <th>Name</th>\n",
       "      <th>Gender</th>\n",
       "      <th>Age</th>\n",
       "      <th>Height</th>\n",
       "      <th>Weight</th>\n",
       "      <th>Team</th>\n",
       "      <th>NOC</th>\n",
       "      <th>Games</th>\n",
       "      <th>Year</th>\n",
       "      <th>Season</th>\n",
       "      <th>City</th>\n",
       "      <th>Sport</th>\n",
       "      <th>Event</th>\n",
       "      <th>Medal</th>\n",
       "    </tr>\n",
       "  </thead>\n",
       "  <tbody>\n",
       "    <tr>\n",
       "      <th>17</th>\n",
       "      <td>21</td>\n",
       "      <td>Ragnhild Margrethe Aamodt</td>\n",
       "      <td>F</td>\n",
       "      <td>27.0</td>\n",
       "      <td>163.000000</td>\n",
       "      <td>68.876851</td>\n",
       "      <td>Norway</td>\n",
       "      <td>NOR</td>\n",
       "      <td>2008 Summer</td>\n",
       "      <td>2008</td>\n",
       "      <td>Summer</td>\n",
       "      <td>Beijing</td>\n",
       "      <td>Handball</td>\n",
       "      <td>Handball Women's Handball</td>\n",
       "      <td>Gold</td>\n",
       "    </tr>\n",
       "    <tr>\n",
       "      <th>19</th>\n",
       "      <td>29</td>\n",
       "      <td>Willemien Aardenburg</td>\n",
       "      <td>F</td>\n",
       "      <td>22.0</td>\n",
       "      <td>166.125267</td>\n",
       "      <td>60.530935</td>\n",
       "      <td>Netherlands</td>\n",
       "      <td>NED</td>\n",
       "      <td>1988 Summer</td>\n",
       "      <td>1988</td>\n",
       "      <td>Summer</td>\n",
       "      <td>Seoul</td>\n",
       "      <td>Hockey</td>\n",
       "      <td>Hockey Women's Hockey</td>\n",
       "      <td>Bronze</td>\n",
       "    </tr>\n",
       "    <tr>\n",
       "      <th>21</th>\n",
       "      <td>37</td>\n",
       "      <td>Ann Kristin Aarnes</td>\n",
       "      <td>F</td>\n",
       "      <td>23.0</td>\n",
       "      <td>182.000000</td>\n",
       "      <td>64.000000</td>\n",
       "      <td>Norway</td>\n",
       "      <td>NOR</td>\n",
       "      <td>1996 Summer</td>\n",
       "      <td>1996</td>\n",
       "      <td>Summer</td>\n",
       "      <td>Atlanta</td>\n",
       "      <td>Football</td>\n",
       "      <td>Football Women's Football</td>\n",
       "      <td>Bronze</td>\n",
       "    </tr>\n",
       "  </tbody>\n",
       "</table>\n",
       "</div>"
      ]
     },
     "execution_count": 102,
     "metadata": {},
     "output_type": "execute_result"
    }
   ],
   "execution_count": 102
  },
  {
   "metadata": {
    "ExecuteTime": {
     "end_time": "2025-01-24T13:00:48.255130Z",
     "start_time": "2025-01-24T13:00:47.927875Z"
    }
   },
   "cell_type": "code",
   "source": [
    "plt.figure()\n",
    "plt.scatter(female.Height, female.Weight,alpha=0.4 ,color=\"red\", label=\"Female\")\n",
    "plt.scatter(male.Height, male.Weight, alpha=0.4, color=\"blue\", label=\"Male\")\n",
    "plt.xlabel(\"Height\")\n",
    "plt.ylabel(\"Weight\")\n",
    "plt.title(\"Height-Weight\")\n",
    "plt.legend()\n",
    "plt.show()\n"
   ],
   "id": "89ebc8f41b4008bd",
   "outputs": [
    {
     "data": {
      "text/plain": [
       "<Figure size 640x480 with 1 Axes>"
      ],
      "image/png": "[encoded data removed]"
     },
     "metadata": {},
     "output_type": "display_data"
    }
   ],
   "execution_count": 103
  },
  {
   "metadata": {},
   "cell_type": "markdown",
   "source": " - Bu Grafikte boy-kilo arttıkça madalya alma oranının arttığını görüyoruz.",
   "id": "2c60a1a493d33553"
  },
  {
   "metadata": {},
   "cell_type": "markdown",
   "source": "# Sayısal Sutünlar arası ilişkinin incelenmesi.",
   "id": "d49ab5a6b745d6fc"
  },
  {
   "metadata": {
    "ExecuteTime": {
     "end_time": "2025-01-24T13:00:48.314638Z",
     "start_time": "2025-01-24T13:00:48.302653Z"
    }
   },
   "cell_type": "code",
   "source": "df.loc[:,[\"Age\",\"Height\",\"Weight\"]].corr()  #Korelasyon matrisi",
   "id": "fad2a4f12aaf78fd",
   "outputs": [
    {
     "data": {
      "text/plain": [
       "             Age    Height    Weight\n",
       "Age     1.000000  0.067660  0.163839\n",
       "Height  0.067660  1.000000  0.795365\n",
       "Weight  0.163839  0.795365  1.000000"
      ],
      "text/html": [
       "<div>\n",
       "<style scoped>\n",
       "    .dataframe tbody tr th:only-of-type {\n",
       "        vertical-align: middle;\n",
       "    }\n",
       "\n",
       "    .dataframe tbody tr th {\n",
       "        vertical-align: top;\n",
       "    }\n",
       "\n",
       "    .dataframe thead th {\n",
       "        text-align: right;\n",
       "    }\n",
       "</style>\n",
       "<table border=\"1\" class=\"dataframe\">\n",
       "  <thead>\n",
       "    <tr style=\"text-align: right;\">\n",
       "      <th></th>\n",
       "      <th>Age</th>\n",
       "      <th>Height</th>\n",
       "      <th>Weight</th>\n",
       "    </tr>\n",
       "  </thead>\n",
       "  <tbody>\n",
       "    <tr>\n",
       "      <th>Age</th>\n",
       "      <td>1.000000</td>\n",
       "      <td>0.067660</td>\n",
       "      <td>0.163839</td>\n",
       "    </tr>\n",
       "    <tr>\n",
       "      <th>Height</th>\n",
       "      <td>0.067660</td>\n",
       "      <td>1.000000</td>\n",
       "      <td>0.795365</td>\n",
       "    </tr>\n",
       "    <tr>\n",
       "      <th>Weight</th>\n",
       "      <td>0.163839</td>\n",
       "      <td>0.795365</td>\n",
       "      <td>1.000000</td>\n",
       "    </tr>\n",
       "  </tbody>\n",
       "</table>\n",
       "</div>"
      ]
     },
     "execution_count": 104,
     "metadata": {},
     "output_type": "execute_result"
    }
   ],
   "execution_count": 104
  },
  {
   "metadata": {},
   "cell_type": "markdown",
   "source": "# Madalya yaş arasında ilişki",
   "id": "b8e43610cffc33e5"
  },
  {
   "metadata": {
    "ExecuteTime": {
     "end_time": "2025-01-24T13:00:48.408532Z",
     "start_time": "2025-01-24T13:00:48.376812Z"
    }
   },
   "cell_type": "code",
   "source": [
    "temp_data = df.copy()\n",
    "temp_data = pd.get_dummies(temp_data, columns=[\"Medal\"]) # Get dummies fonksiyonu verilen kolon içerisindeki değerlere göre farklı sutünlar oluşturur.\n",
    "temp_data.head(2)"
   ],
   "id": "7c2bfbdbd3662d04",
   "outputs": [
    {
     "data": {
      "text/plain": [
       "   id                  Name Gender   Age      Height     Weight  \\\n",
       "0   4  Edgar Lindenau Aabye      M  34.0  182.480000  95.615385   \n",
       "1  15  Arvo Ossian Aaltonen      M  30.0  182.008432  76.694056   \n",
       "\n",
       "             Team  NOC        Games  Year  Season       City       Sport  \\\n",
       "0  Denmark/Sweden  DEN  1900 Summer  1900  Summer      Paris  Tug-Of-War   \n",
       "1         Finland  FIN  1920 Summer  1920  Summer  Antwerpen    Swimming   \n",
       "\n",
       "                                    Event  Medal_Bronze  Medal_Gold  \\\n",
       "0             Tug-Of-War Men's Tug-Of-War         False        True   \n",
       "1  Swimming Men's 200 metres Breaststroke          True       False   \n",
       "\n",
       "   Medal_Silver  \n",
       "0         False  \n",
       "1         False  "
      ],
      "text/html": [
       "<div>\n",
       "<style scoped>\n",
       "    .dataframe tbody tr th:only-of-type {\n",
       "        vertical-align: middle;\n",
       "    }\n",
       "\n",
       "    .dataframe tbody tr th {\n",
       "        vertical-align: top;\n",
       "    }\n",
       "\n",
       "    .dataframe thead th {\n",
       "        text-align: right;\n",
       "    }\n",
       "</style>\n",
       "<table border=\"1\" class=\"dataframe\">\n",
       "  <thead>\n",
       "    <tr style=\"text-align: right;\">\n",
       "      <th></th>\n",
       "      <th>id</th>\n",
       "      <th>Name</th>\n",
       "      <th>Gender</th>\n",
       "      <th>Age</th>\n",
       "      <th>Height</th>\n",
       "      <th>Weight</th>\n",
       "      <th>Team</th>\n",
       "      <th>NOC</th>\n",
       "      <th>Games</th>\n",
       "      <th>Year</th>\n",
       "      <th>Season</th>\n",
       "      <th>City</th>\n",
       "      <th>Sport</th>\n",
       "      <th>Event</th>\n",
       "      <th>Medal_Bronze</th>\n",
       "      <th>Medal_Gold</th>\n",
       "      <th>Medal_Silver</th>\n",
       "    </tr>\n",
       "  </thead>\n",
       "  <tbody>\n",
       "    <tr>\n",
       "      <th>0</th>\n",
       "      <td>4</td>\n",
       "      <td>Edgar Lindenau Aabye</td>\n",
       "      <td>M</td>\n",
       "      <td>34.0</td>\n",
       "      <td>182.480000</td>\n",
       "      <td>95.615385</td>\n",
       "      <td>Denmark/Sweden</td>\n",
       "      <td>DEN</td>\n",
       "      <td>1900 Summer</td>\n",
       "      <td>1900</td>\n",
       "      <td>Summer</td>\n",
       "      <td>Paris</td>\n",
       "      <td>Tug-Of-War</td>\n",
       "      <td>Tug-Of-War Men's Tug-Of-War</td>\n",
       "      <td>False</td>\n",
       "      <td>True</td>\n",
       "      <td>False</td>\n",
       "    </tr>\n",
       "    <tr>\n",
       "      <th>1</th>\n",
       "      <td>15</td>\n",
       "      <td>Arvo Ossian Aaltonen</td>\n",
       "      <td>M</td>\n",
       "      <td>30.0</td>\n",
       "      <td>182.008432</td>\n",
       "      <td>76.694056</td>\n",
       "      <td>Finland</td>\n",
       "      <td>FIN</td>\n",
       "      <td>1920 Summer</td>\n",
       "      <td>1920</td>\n",
       "      <td>Summer</td>\n",
       "      <td>Antwerpen</td>\n",
       "      <td>Swimming</td>\n",
       "      <td>Swimming Men's 200 metres Breaststroke</td>\n",
       "      <td>True</td>\n",
       "      <td>False</td>\n",
       "      <td>False</td>\n",
       "    </tr>\n",
       "  </tbody>\n",
       "</table>\n",
       "</div>"
      ]
     },
     "execution_count": 105,
     "metadata": {},
     "output_type": "execute_result"
    }
   ],
   "execution_count": 105
  },
  {
   "metadata": {
    "ExecuteTime": {
     "end_time": "2025-01-24T13:00:48.614505Z",
     "start_time": "2025-01-24T13:00:48.601898Z"
    }
   },
   "cell_type": "code",
   "source": "temp_data.loc[:,[\"Age\",\"Medal_Bronze\",\"Medal_Gold\",\"Medal_Silver\"]].corr()",
   "id": "da346053c704b2ce",
   "outputs": [
    {
     "data": {
      "text/plain": [
       "                   Age  Medal_Bronze  Medal_Gold  Medal_Silver\n",
       "Age           1.000000     -0.006040   -0.002522      0.008594\n",
       "Medal_Bronze -0.006040      1.000000   -0.504110     -0.496859\n",
       "Medal_Gold   -0.002522     -0.504110    1.000000     -0.499022\n",
       "Medal_Silver  0.008594     -0.496859   -0.499022      1.000000"
      ],
      "text/html": [
       "<div>\n",
       "<style scoped>\n",
       "    .dataframe tbody tr th:only-of-type {\n",
       "        vertical-align: middle;\n",
       "    }\n",
       "\n",
       "    .dataframe tbody tr th {\n",
       "        vertical-align: top;\n",
       "    }\n",
       "\n",
       "    .dataframe thead th {\n",
       "        text-align: right;\n",
       "    }\n",
       "</style>\n",
       "<table border=\"1\" class=\"dataframe\">\n",
       "  <thead>\n",
       "    <tr style=\"text-align: right;\">\n",
       "      <th></th>\n",
       "      <th>Age</th>\n",
       "      <th>Medal_Bronze</th>\n",
       "      <th>Medal_Gold</th>\n",
       "      <th>Medal_Silver</th>\n",
       "    </tr>\n",
       "  </thead>\n",
       "  <tbody>\n",
       "    <tr>\n",
       "      <th>Age</th>\n",
       "      <td>1.000000</td>\n",
       "      <td>-0.006040</td>\n",
       "      <td>-0.002522</td>\n",
       "      <td>0.008594</td>\n",
       "    </tr>\n",
       "    <tr>\n",
       "      <th>Medal_Bronze</th>\n",
       "      <td>-0.006040</td>\n",
       "      <td>1.000000</td>\n",
       "      <td>-0.504110</td>\n",
       "      <td>-0.496859</td>\n",
       "    </tr>\n",
       "    <tr>\n",
       "      <th>Medal_Gold</th>\n",
       "      <td>-0.002522</td>\n",
       "      <td>-0.504110</td>\n",
       "      <td>1.000000</td>\n",
       "      <td>-0.499022</td>\n",
       "    </tr>\n",
       "    <tr>\n",
       "      <th>Medal_Silver</th>\n",
       "      <td>0.008594</td>\n",
       "      <td>-0.496859</td>\n",
       "      <td>-0.499022</td>\n",
       "      <td>1.000000</td>\n",
       "    </tr>\n",
       "  </tbody>\n",
       "</table>\n",
       "</div>"
      ]
     },
     "execution_count": 106,
     "metadata": {},
     "output_type": "execute_result"
    }
   ],
   "execution_count": 106
  },
  {
   "metadata": {},
   "cell_type": "markdown",
   "source": "# Takım bazında Madalya Sayıları",
   "id": "28f4a748aceacc9e"
  },
  {
   "metadata": {
    "ExecuteTime": {
     "end_time": "2025-01-24T13:00:48.731669Z",
     "start_time": "2025-01-24T13:00:48.713643Z"
    }
   },
   "cell_type": "code",
   "source": "temp_data.loc[:,[\"Team\",\"Medal_Bronze\",\"Medal_Gold\",\"Medal_Silver\"]].groupby(\"Team\",as_index = False).sum().sort_values(by=\"Medal_Gold\",ascending=False)",
   "id": "7abe2364f0f01ace",
   "outputs": [
    {
     "data": {
      "text/plain": [
       "                                      Team  Medal_Bronze  Medal_Gold  \\\n",
       "462                          United States          1233        2474   \n",
       "403                           Soviet Union           677        1058   \n",
       "165                                Germany           678         679   \n",
       "215                                  Italy           484         535   \n",
       "171                          Great Britain           572         519   \n",
       "..                                     ...           ...         ...   \n",
       "230                              Kerstin-1             3           0   \n",
       "226  K Division Metropolitan Police Team-3             8           0   \n",
       "224                                    Joy             0           0   \n",
       "220                                Japan-1             0           0   \n",
       "497                                    Zut             0           0   \n",
       "\n",
       "     Medal_Silver  \n",
       "462          1512  \n",
       "403           716  \n",
       "165           627  \n",
       "215           508  \n",
       "171           582  \n",
       "..            ...  \n",
       "230             0  \n",
       "226             0  \n",
       "224             2  \n",
       "220             2  \n",
       "497             3  \n",
       "\n",
       "[498 rows x 4 columns]"
      ],
      "text/html": [
       "<div>\n",
       "<style scoped>\n",
       "    .dataframe tbody tr th:only-of-type {\n",
       "        vertical-align: middle;\n",
       "    }\n",
       "\n",
       "    .dataframe tbody tr th {\n",
       "        vertical-align: top;\n",
       "    }\n",
       "\n",
       "    .dataframe thead th {\n",
       "        text-align: right;\n",
       "    }\n",
       "</style>\n",
       "<table border=\"1\" class=\"dataframe\">\n",
       "  <thead>\n",
       "    <tr style=\"text-align: right;\">\n",
       "      <th></th>\n",
       "      <th>Team</th>\n",
       "      <th>Medal_Bronze</th>\n",
       "      <th>Medal_Gold</th>\n",
       "      <th>Medal_Silver</th>\n",
       "    </tr>\n",
       "  </thead>\n",
       "  <tbody>\n",
       "    <tr>\n",
       "      <th>462</th>\n",
       "      <td>United States</td>\n",
       "      <td>1233</td>\n",
       "      <td>2474</td>\n",
       "      <td>1512</td>\n",
       "    </tr>\n",
       "    <tr>\n",
       "      <th>403</th>\n",
       "      <td>Soviet Union</td>\n",
       "      <td>677</td>\n",
       "      <td>1058</td>\n",
       "      <td>716</td>\n",
       "    </tr>\n",
       "    <tr>\n",
       "      <th>165</th>\n",
       "      <td>Germany</td>\n",
       "      <td>678</td>\n",
       "      <td>679</td>\n",
       "      <td>627</td>\n",
       "    </tr>\n",
       "    <tr>\n",
       "      <th>215</th>\n",
       "      <td>Italy</td>\n",
       "      <td>484</td>\n",
       "      <td>535</td>\n",
       "      <td>508</td>\n",
       "    </tr>\n",
       "    <tr>\n",
       "      <th>171</th>\n",
       "      <td>Great Britain</td>\n",
       "      <td>572</td>\n",
       "      <td>519</td>\n",
       "      <td>582</td>\n",
       "    </tr>\n",
       "    <tr>\n",
       "      <th>...</th>\n",
       "      <td>...</td>\n",
       "      <td>...</td>\n",
       "      <td>...</td>\n",
       "      <td>...</td>\n",
       "    </tr>\n",
       "    <tr>\n",
       "      <th>230</th>\n",
       "      <td>Kerstin-1</td>\n",
       "      <td>3</td>\n",
       "      <td>0</td>\n",
       "      <td>0</td>\n",
       "    </tr>\n",
       "    <tr>\n",
       "      <th>226</th>\n",
       "      <td>K Division Metropolitan Police Team-3</td>\n",
       "      <td>8</td>\n",
       "      <td>0</td>\n",
       "      <td>0</td>\n",
       "    </tr>\n",
       "    <tr>\n",
       "      <th>224</th>\n",
       "      <td>Joy</td>\n",
       "      <td>0</td>\n",
       "      <td>0</td>\n",
       "      <td>2</td>\n",
       "    </tr>\n",
       "    <tr>\n",
       "      <th>220</th>\n",
       "      <td>Japan-1</td>\n",
       "      <td>0</td>\n",
       "      <td>0</td>\n",
       "      <td>2</td>\n",
       "    </tr>\n",
       "    <tr>\n",
       "      <th>497</th>\n",
       "      <td>Zut</td>\n",
       "      <td>0</td>\n",
       "      <td>0</td>\n",
       "      <td>3</td>\n",
       "    </tr>\n",
       "  </tbody>\n",
       "</table>\n",
       "<p>498 rows × 4 columns</p>\n",
       "</div>"
      ]
     },
     "execution_count": 107,
     "metadata": {},
     "output_type": "execute_result"
    }
   ],
   "execution_count": 107
  },
  {
   "metadata": {},
   "cell_type": "markdown",
   "source": "# Kazanılan madalyanın hangi şehirlerde kazanıldığı",
   "id": "9ee8c3ca051a97eb"
  },
  {
   "metadata": {
    "ExecuteTime": {
     "end_time": "2025-01-24T13:00:49.041144Z",
     "start_time": "2025-01-24T13:00:49.017753Z"
    }
   },
   "cell_type": "code",
   "source": "temp_data[[\"City\",\"Medal_Bronze\",\"Medal_Gold\",\"Medal_Silver\"]].groupby(\"City\",as_index = False).sum().sort_values(by=\"Medal_Gold\",ascending=False)",
   "id": "191cf17228a49492",
   "outputs": [
    {
     "data": {
      "text/plain": [
       "                      City  Medal_Bronze  Medal_Gold  Medal_Silver\n",
       "17                  London          1214        1215          1195\n",
       "3                   Athina           860         883           859\n",
       "18             Los Angeles           706         726           691\n",
       "6                  Beijing           710         671           667\n",
       "27          Rio de Janeiro           703         665           655\n",
       "38                  Sydney           680         663           661\n",
       "4                  Atlanta           629         608           605\n",
       "5                Barcelona           604         559           549\n",
       "33                   Seoul           549         520           513\n",
       "2                Antwerpen           367         493           448\n",
       "26                   Paris           449         478           509\n",
       "22                  Moskva           469         457           458\n",
       "21                Montreal           448         438           434\n",
       "23                  Munich           419         404           392\n",
       "20             Mexico City           358         359           340\n",
       "39                   Tokyo           343         347           339\n",
       "37               Stockholm           312         338           327\n",
       "7                   Berlin           295         312           310\n",
       "28                    Roma           308         309           294\n",
       "13                Helsinki           300         306           291\n",
       "19               Melbourne           286         290           281\n",
       "1                Amsterdam           250         245           239\n",
       "34                   Sochi           198         202           197\n",
       "40                  Torino           175         176           175\n",
       "41               Vancouver           171         174           175\n",
       "36               St. Louis           150         173           163\n",
       "29          Salt Lake City           159         162           157\n",
       "24                  Nagano           150         145           145\n",
       "14               Innsbruck           128         131           138\n",
       "16             Lillehammer           112         110           109\n",
       "0              Albertville           106         104           108\n",
       "15             Lake Placid           101         104           105\n",
       "8                  Calgary            88          87            88\n",
       "32                Sarajevo            74          74            74\n",
       "30            Sankt Moritz            77          71            76\n",
       "31                 Sapporo            66          70            63\n",
       "12                Grenoble            63          66            70\n",
       "9                 Chamonix            37          55            38\n",
       "10       Cortina d'Ampezzo            50          51            49\n",
       "35            Squaw Valley            49          50            48\n",
       "25                    Oslo            47          45            44\n",
       "11  Garmisch-Partenkirchen            35          36            37"
      ],
      "text/html": [
       "<div>\n",
       "<style scoped>\n",
       "    .dataframe tbody tr th:only-of-type {\n",
       "        vertical-align: middle;\n",
       "    }\n",
       "\n",
       "    .dataframe tbody tr th {\n",
       "        vertical-align: top;\n",
       "    }\n",
       "\n",
       "    .dataframe thead th {\n",
       "        text-align: right;\n",
       "    }\n",
       "</style>\n",
       "<table border=\"1\" class=\"dataframe\">\n",
       "  <thead>\n",
       "    <tr style=\"text-align: right;\">\n",
       "      <th></th>\n",
       "      <th>City</th>\n",
       "      <th>Medal_Bronze</th>\n",
       "      <th>Medal_Gold</th>\n",
       "      <th>Medal_Silver</th>\n",
       "    </tr>\n",
       "  </thead>\n",
       "  <tbody>\n",
       "    <tr>\n",
       "      <th>17</th>\n",
       "      <td>London</td>\n",
       "      <td>1214</td>\n",
       "      <td>1215</td>\n",
       "      <td>1195</td>\n",
       "    </tr>\n",
       "    <tr>\n",
       "      <th>3</th>\n",
       "      <td>Athina</td>\n",
       "      <td>860</td>\n",
       "      <td>883</td>\n",
       "      <td>859</td>\n",
       "    </tr>\n",
       "    <tr>\n",
       "      <th>18</th>\n",
       "      <td>Los Angeles</td>\n",
       "      <td>706</td>\n",
       "      <td>726</td>\n",
       "      <td>691</td>\n",
       "    </tr>\n",
       "    <tr>\n",
       "      <th>6</th>\n",
       "      <td>Beijing</td>\n",
       "      <td>710</td>\n",
       "      <td>671</td>\n",
       "      <td>667</td>\n",
       "    </tr>\n",
       "    <tr>\n",
       "      <th>27</th>\n",
       "      <td>Rio de Janeiro</td>\n",
       "      <td>703</td>\n",
       "      <td>665</td>\n",
       "      <td>655</td>\n",
       "    </tr>\n",
       "    <tr>\n",
       "      <th>38</th>\n",
       "      <td>Sydney</td>\n",
       "      <td>680</td>\n",
       "      <td>663</td>\n",
       "      <td>661</td>\n",
       "    </tr>\n",
       "    <tr>\n",
       "      <th>4</th>\n",
       "      <td>Atlanta</td>\n",
       "      <td>629</td>\n",
       "      <td>608</td>\n",
       "      <td>605</td>\n",
       "    </tr>\n",
       "    <tr>\n",
       "      <th>5</th>\n",
       "      <td>Barcelona</td>\n",
       "      <td>604</td>\n",
       "      <td>559</td>\n",
       "      <td>549</td>\n",
       "    </tr>\n",
       "    <tr>\n",
       "      <th>33</th>\n",
       "      <td>Seoul</td>\n",
       "      <td>549</td>\n",
       "      <td>520</td>\n",
       "      <td>513</td>\n",
       "    </tr>\n",
       "    <tr>\n",
       "      <th>2</th>\n",
       "      <td>Antwerpen</td>\n",
       "      <td>367</td>\n",
       "      <td>493</td>\n",
       "      <td>448</td>\n",
       "    </tr>\n",
       "    <tr>\n",
       "      <th>26</th>\n",
       "      <td>Paris</td>\n",
       "      <td>449</td>\n",
       "      <td>478</td>\n",
       "      <td>509</td>\n",
       "    </tr>\n",
       "    <tr>\n",
       "      <th>22</th>\n",
       "      <td>Moskva</td>\n",
       "      <td>469</td>\n",
       "      <td>457</td>\n",
       "      <td>458</td>\n",
       "    </tr>\n",
       "    <tr>\n",
       "      <th>21</th>\n",
       "      <td>Montreal</td>\n",
       "      <td>448</td>\n",
       "      <td>438</td>\n",
       "      <td>434</td>\n",
       "    </tr>\n",
       "    <tr>\n",
       "      <th>23</th>\n",
       "      <td>Munich</td>\n",
       "      <td>419</td>\n",
       "      <td>404</td>\n",
       "      <td>392</td>\n",
       "    </tr>\n",
       "    <tr>\n",
       "      <th>20</th>\n",
       "      <td>Mexico City</td>\n",
       "      <td>358</td>\n",
       "      <td>359</td>\n",
       "      <td>340</td>\n",
       "    </tr>\n",
       "    <tr>\n",
       "      <th>39</th>\n",
       "      <td>Tokyo</td>\n",
       "      <td>343</td>\n",
       "      <td>347</td>\n",
       "      <td>339</td>\n",
       "    </tr>\n",
       "    <tr>\n",
       "      <th>37</th>\n",
       "      <td>Stockholm</td>\n",
       "      <td>312</td>\n",
       "      <td>338</td>\n",
       "      <td>327</td>\n",
       "    </tr>\n",
       "    <tr>\n",
       "      <th>7</th>\n",
       "      <td>Berlin</td>\n",
       "      <td>295</td>\n",
       "      <td>312</td>\n",
       "      <td>310</td>\n",
       "    </tr>\n",
       "    <tr>\n",
       "      <th>28</th>\n",
       "      <td>Roma</td>\n",
       "      <td>308</td>\n",
       "      <td>309</td>\n",
       "      <td>294</td>\n",
       "    </tr>\n",
       "    <tr>\n",
       "      <th>13</th>\n",
       "      <td>Helsinki</td>\n",
       "      <td>300</td>\n",
       "      <td>306</td>\n",
       "      <td>291</td>\n",
       "    </tr>\n",
       "    <tr>\n",
       "      <th>19</th>\n",
       "      <td>Melbourne</td>\n",
       "      <td>286</td>\n",
       "      <td>290</td>\n",
       "      <td>281</td>\n",
       "    </tr>\n",
       "    <tr>\n",
       "      <th>1</th>\n",
       "      <td>Amsterdam</td>\n",
       "      <td>250</td>\n",
       "      <td>245</td>\n",
       "      <td>239</td>\n",
       "    </tr>\n",
       "    <tr>\n",
       "      <th>34</th>\n",
       "      <td>Sochi</td>\n",
       "      <td>198</td>\n",
       "      <td>202</td>\n",
       "      <td>197</td>\n",
       "    </tr>\n",
       "    <tr>\n",
       "      <th>40</th>\n",
       "      <td>Torino</td>\n",
       "      <td>175</td>\n",
       "      <td>176</td>\n",
       "      <td>175</td>\n",
       "    </tr>\n",
       "    <tr>\n",
       "      <th>41</th>\n",
       "      <td>Vancouver</td>\n",
       "      <td>171</td>\n",
       "      <td>174</td>\n",
       "      <td>175</td>\n",
       "    </tr>\n",
       "    <tr>\n",
       "      <th>36</th>\n",
       "      <td>St. Louis</td>\n",
       "      <td>150</td>\n",
       "      <td>173</td>\n",
       "      <td>163</td>\n",
       "    </tr>\n",
       "    <tr>\n",
       "      <th>29</th>\n",
       "      <td>Salt Lake City</td>\n",
       "      <td>159</td>\n",
       "      <td>162</td>\n",
       "      <td>157</td>\n",
       "    </tr>\n",
       "    <tr>\n",
       "      <th>24</th>\n",
       "      <td>Nagano</td>\n",
       "      <td>150</td>\n",
       "      <td>145</td>\n",
       "      <td>145</td>\n",
       "    </tr>\n",
       "    <tr>\n",
       "      <th>14</th>\n",
       "      <td>Innsbruck</td>\n",
       "      <td>128</td>\n",
       "      <td>131</td>\n",
       "      <td>138</td>\n",
       "    </tr>\n",
       "    <tr>\n",
       "      <th>16</th>\n",
       "      <td>Lillehammer</td>\n",
       "      <td>112</td>\n",
       "      <td>110</td>\n",
       "      <td>109</td>\n",
       "    </tr>\n",
       "    <tr>\n",
       "      <th>0</th>\n",
       "      <td>Albertville</td>\n",
       "      <td>106</td>\n",
       "      <td>104</td>\n",
       "      <td>108</td>\n",
       "    </tr>\n",
       "    <tr>\n",
       "      <th>15</th>\n",
       "      <td>Lake Placid</td>\n",
       "      <td>101</td>\n",
       "      <td>104</td>\n",
       "      <td>105</td>\n",
       "    </tr>\n",
       "    <tr>\n",
       "      <th>8</th>\n",
       "      <td>Calgary</td>\n",
       "      <td>88</td>\n",
       "      <td>87</td>\n",
       "      <td>88</td>\n",
       "    </tr>\n",
       "    <tr>\n",
       "      <th>32</th>\n",
       "      <td>Sarajevo</td>\n",
       "      <td>74</td>\n",
       "      <td>74</td>\n",
       "      <td>74</td>\n",
       "    </tr>\n",
       "    <tr>\n",
       "      <th>30</th>\n",
       "      <td>Sankt Moritz</td>\n",
       "      <td>77</td>\n",
       "      <td>71</td>\n",
       "      <td>76</td>\n",
       "    </tr>\n",
       "    <tr>\n",
       "      <th>31</th>\n",
       "      <td>Sapporo</td>\n",
       "      <td>66</td>\n",
       "      <td>70</td>\n",
       "      <td>63</td>\n",
       "    </tr>\n",
       "    <tr>\n",
       "      <th>12</th>\n",
       "      <td>Grenoble</td>\n",
       "      <td>63</td>\n",
       "      <td>66</td>\n",
       "      <td>70</td>\n",
       "    </tr>\n",
       "    <tr>\n",
       "      <th>9</th>\n",
       "      <td>Chamonix</td>\n",
       "      <td>37</td>\n",
       "      <td>55</td>\n",
       "      <td>38</td>\n",
       "    </tr>\n",
       "    <tr>\n",
       "      <th>10</th>\n",
       "      <td>Cortina d'Ampezzo</td>\n",
       "      <td>50</td>\n",
       "      <td>51</td>\n",
       "      <td>49</td>\n",
       "    </tr>\n",
       "    <tr>\n",
       "      <th>35</th>\n",
       "      <td>Squaw Valley</td>\n",
       "      <td>49</td>\n",
       "      <td>50</td>\n",
       "      <td>48</td>\n",
       "    </tr>\n",
       "    <tr>\n",
       "      <th>25</th>\n",
       "      <td>Oslo</td>\n",
       "      <td>47</td>\n",
       "      <td>45</td>\n",
       "      <td>44</td>\n",
       "    </tr>\n",
       "    <tr>\n",
       "      <th>11</th>\n",
       "      <td>Garmisch-Partenkirchen</td>\n",
       "      <td>35</td>\n",
       "      <td>36</td>\n",
       "      <td>37</td>\n",
       "    </tr>\n",
       "  </tbody>\n",
       "</table>\n",
       "</div>"
      ]
     },
     "execution_count": 108,
     "metadata": {},
     "output_type": "execute_result"
    }
   ],
   "execution_count": 108
  },
  {
   "metadata": {},
   "cell_type": "markdown",
   "source": "# Cinsiyete göre altın gümüş ve bronz madalya sayıları",
   "id": "b77181599529f0a2"
  },
  {
   "metadata": {
    "ExecuteTime": {
     "end_time": "2025-01-24T13:00:49.198047Z",
     "start_time": "2025-01-24T13:00:49.182122Z"
    }
   },
   "cell_type": "code",
   "source": "temp_data[[\"Gender\",\"Medal_Gold\",\"Medal_Silver\",\"Medal_Bronze\"]].groupby(\"Gender\",as_index = False).sum().sort_values(by=\"Medal_Gold\",ascending=False)",
   "id": "50f95a5c245fd677",
   "outputs": [
    {
     "data": {
      "text/plain": [
       "  Gender  Medal_Gold  Medal_Silver  Medal_Bronze\n",
       "1      M        9625          9381          9524\n",
       "0      F        3747          3735          3771"
      ],
      "text/html": [
       "<div>\n",
       "<style scoped>\n",
       "    .dataframe tbody tr th:only-of-type {\n",
       "        vertical-align: middle;\n",
       "    }\n",
       "\n",
       "    .dataframe tbody tr th {\n",
       "        vertical-align: top;\n",
       "    }\n",
       "\n",
       "    .dataframe thead th {\n",
       "        text-align: right;\n",
       "    }\n",
       "</style>\n",
       "<table border=\"1\" class=\"dataframe\">\n",
       "  <thead>\n",
       "    <tr style=\"text-align: right;\">\n",
       "      <th></th>\n",
       "      <th>Gender</th>\n",
       "      <th>Medal_Gold</th>\n",
       "      <th>Medal_Silver</th>\n",
       "      <th>Medal_Bronze</th>\n",
       "    </tr>\n",
       "  </thead>\n",
       "  <tbody>\n",
       "    <tr>\n",
       "      <th>1</th>\n",
       "      <td>M</td>\n",
       "      <td>9625</td>\n",
       "      <td>9381</td>\n",
       "      <td>9524</td>\n",
       "    </tr>\n",
       "    <tr>\n",
       "      <th>0</th>\n",
       "      <td>F</td>\n",
       "      <td>3747</td>\n",
       "      <td>3735</td>\n",
       "      <td>3771</td>\n",
       "    </tr>\n",
       "  </tbody>\n",
       "</table>\n",
       "</div>"
      ]
     },
     "execution_count": 109,
     "metadata": {},
     "output_type": "execute_result"
    }
   ],
   "execution_count": 109
  },
  {
   "metadata": {},
   "cell_type": "markdown",
   "source": [
    "# Çok değişkenli Veri Analizi\n",
    "\n",
    "## Pivot tablosu\n",
    "- Pivot tablo veritabanı,iş zekası programı yada veri tablosu gibi daha geniş bir tabloyu özetleyen istatistik tablosudur.Bu özet pivot tabloyu anlamlı bir şekilde gruplayan toplamları,ortalamaları veya diğer istatistikleri içerebilir"
   ],
   "id": "2ee42d9a742b40bf"
  },
  {
   "metadata": {
    "ExecuteTime": {
     "end_time": "2025-01-24T13:00:49.471462Z",
     "start_time": "2025-01-24T13:00:49.417205Z"
    }
   },
   "cell_type": "code",
   "source": [
    "pivot_data = df.pivot_table(index = \"Medal\", columns=\"Gender\",\n",
    "                            values=[\"Age\",\"Height\",\"Weight\"],\n",
    "                            aggfunc = {\"Age\": [\"min\",\"max\",\"std\"],\"Height\":\"mean\", \"Weight\":\"mean\"\n",
    "                                       })\n",
    "pivot_data.head()"
   ],
   "id": "6a5cd40112100156",
   "outputs": [
    {
     "data": {
      "text/plain": [
       "         Age                                            Height              \\\n",
       "         max         min             std                  mean               \n",
       "Gender     F     M     F     M         F         M           F           M   \n",
       "Medal                                                                        \n",
       "Bronze  69.0  72.0  12.0  10.0  5.333696  5.935714  169.989008  180.130340   \n",
       "Gold    63.0  64.0  13.0  13.0  5.247050  6.061617  170.429033  180.470264   \n",
       "Silver  55.0  73.0  11.0  13.0  5.262575  6.174631  170.222771  180.184822   \n",
       "\n",
       "           Weight             \n",
       "             mean             \n",
       "Gender          F          M  \n",
       "Medal                         \n",
       "Bronze  62.729685  78.145543  \n",
       "Gold    63.161136  78.647207  \n",
       "Silver  62.839558  78.368773  "
      ],
      "text/html": [
       "<div>\n",
       "<style scoped>\n",
       "    .dataframe tbody tr th:only-of-type {\n",
       "        vertical-align: middle;\n",
       "    }\n",
       "\n",
       "    .dataframe tbody tr th {\n",
       "        vertical-align: top;\n",
       "    }\n",
       "\n",
       "    .dataframe thead tr th {\n",
       "        text-align: left;\n",
       "    }\n",
       "\n",
       "    .dataframe thead tr:last-of-type th {\n",
       "        text-align: right;\n",
       "    }\n",
       "</style>\n",
       "<table border=\"1\" class=\"dataframe\">\n",
       "  <thead>\n",
       "    <tr>\n",
       "      <th></th>\n",
       "      <th colspan=\"6\" halign=\"left\">Age</th>\n",
       "      <th colspan=\"2\" halign=\"left\">Height</th>\n",
       "      <th colspan=\"2\" halign=\"left\">Weight</th>\n",
       "    </tr>\n",
       "    <tr>\n",
       "      <th></th>\n",
       "      <th colspan=\"2\" halign=\"left\">max</th>\n",
       "      <th colspan=\"2\" halign=\"left\">min</th>\n",
       "      <th colspan=\"2\" halign=\"left\">std</th>\n",
       "      <th colspan=\"2\" halign=\"left\">mean</th>\n",
       "      <th colspan=\"2\" halign=\"left\">mean</th>\n",
       "    </tr>\n",
       "    <tr>\n",
       "      <th>Gender</th>\n",
       "      <th>F</th>\n",
       "      <th>M</th>\n",
       "      <th>F</th>\n",
       "      <th>M</th>\n",
       "      <th>F</th>\n",
       "      <th>M</th>\n",
       "      <th>F</th>\n",
       "      <th>M</th>\n",
       "      <th>F</th>\n",
       "      <th>M</th>\n",
       "    </tr>\n",
       "    <tr>\n",
       "      <th>Medal</th>\n",
       "      <th></th>\n",
       "      <th></th>\n",
       "      <th></th>\n",
       "      <th></th>\n",
       "      <th></th>\n",
       "      <th></th>\n",
       "      <th></th>\n",
       "      <th></th>\n",
       "      <th></th>\n",
       "      <th></th>\n",
       "    </tr>\n",
       "  </thead>\n",
       "  <tbody>\n",
       "    <tr>\n",
       "      <th>Bronze</th>\n",
       "      <td>69.0</td>\n",
       "      <td>72.0</td>\n",
       "      <td>12.0</td>\n",
       "      <td>10.0</td>\n",
       "      <td>5.333696</td>\n",
       "      <td>5.935714</td>\n",
       "      <td>169.989008</td>\n",
       "      <td>180.130340</td>\n",
       "      <td>62.729685</td>\n",
       "      <td>78.145543</td>\n",
       "    </tr>\n",
       "    <tr>\n",
       "      <th>Gold</th>\n",
       "      <td>63.0</td>\n",
       "      <td>64.0</td>\n",
       "      <td>13.0</td>\n",
       "      <td>13.0</td>\n",
       "      <td>5.247050</td>\n",
       "      <td>6.061617</td>\n",
       "      <td>170.429033</td>\n",
       "      <td>180.470264</td>\n",
       "      <td>63.161136</td>\n",
       "      <td>78.647207</td>\n",
       "    </tr>\n",
       "    <tr>\n",
       "      <th>Silver</th>\n",
       "      <td>55.0</td>\n",
       "      <td>73.0</td>\n",
       "      <td>11.0</td>\n",
       "      <td>13.0</td>\n",
       "      <td>5.262575</td>\n",
       "      <td>6.174631</td>\n",
       "      <td>170.222771</td>\n",
       "      <td>180.184822</td>\n",
       "      <td>62.839558</td>\n",
       "      <td>78.368773</td>\n",
       "    </tr>\n",
       "  </tbody>\n",
       "</table>\n",
       "</div>"
      ]
     },
     "execution_count": 110,
     "metadata": {},
     "output_type": "execute_result"
    }
   ],
   "execution_count": 110
  },
  {
   "metadata": {},
   "cell_type": "markdown",
   "source": "- Yukarıdaki tabloda erkek ve kadın ayrımına göre madalyaların min,max,ortalama ve standart sapmalarını görebiliriz.",
   "id": "1c7024af30f0346a"
  },
  {
   "metadata": {},
   "cell_type": "markdown",
   "source": [
    "# Anomali Tespiti\n",
    "- Aykırı değer diğer gözlemlerden önemli ölçüde farklı bir veri noktasıdır.Bir Aykırı değer ölçümdeki değişikliğe bağlı olabilir veya deneysel hatayı gösterebilir. İkincisi bazen veri kümesinden çıkartılır.Bir aykırı değer istatiksel analizlerde ciddi sorunlara neden olabilir.\n"
   ],
   "id": "1eec229381074c91"
  },
  {
   "metadata": {
    "ExecuteTime": {
     "end_time": "2025-01-24T13:00:49.648690Z",
     "start_time": "2025-01-24T13:00:49.641529Z"
    }
   },
   "cell_type": "code",
   "source": [
    "def anomali_detection(df,property):\n",
    "    outlier_indices = []\n",
    "\n",
    "    for c in property:\n",
    "        # 1. çeyrek\n",
    "        Q1 = np.percentile(df[c],25)\n",
    "        # 3. çeyrek\n",
    "        Q3 = np.percentile(df[c],75)\n",
    "        # IQR: Çeyrekler açıklığı\n",
    "        IQR = Q3 - Q1\n",
    "        # aykırı tespiti için çarpan\n",
    "        outlier_step = IQR * 1.5\n",
    "        # aykırıyı ve aykırı indeksini tespit et\n",
    "        outlier_list_col = df[(df[c] < Q1 - outlier_step) | (df[c] > Q3 + outlier_step)].index\n",
    "        # indeksleri depola\n",
    "        outlier_indices.extend(outlier_list_col)\n",
    "\n",
    "    # eşsiz aykırı değerleri bul\n",
    "    outlier_indices = Counter(outlier_indices)\n",
    "    # eğer bir örnek (v) 1 farklı sütun için aykırı değerse bunu aykırı olarak kabul et (v>1)\n",
    "    multiple_outliers = list(i for i, v in outlier_indices.items() if v > 1)\n",
    "    return multiple_outliers"
   ],
   "id": "1d79a625d21eb03c",
   "outputs": [],
   "execution_count": 111
  },
  {
   "metadata": {
    "ExecuteTime": {
     "end_time": "2025-01-24T13:00:49.825711Z",
     "start_time": "2025-01-24T13:00:49.810670Z"
    }
   },
   "cell_type": "code",
   "source": "data_anomali = df.loc[anomali_detection(df,[\"Age\",\"Height\",\"Weight\"])]\n",
   "id": "4dababe6dcae7d7b",
   "outputs": [
    {
     "data": {
      "text/plain": [
       "Empty DataFrame\n",
       "Columns: [id, Name, Gender, Age, Height, Weight, Team, NOC, Games, Year, Season, City, Sport, Event, Medal]\n",
       "Index: []"
      ],
      "text/html": [
       "<div>\n",
       "<style scoped>\n",
       "    .dataframe tbody tr th:only-of-type {\n",
       "        vertical-align: middle;\n",
       "    }\n",
       "\n",
       "    .dataframe tbody tr th {\n",
       "        vertical-align: top;\n",
       "    }\n",
       "\n",
       "    .dataframe thead th {\n",
       "        text-align: right;\n",
       "    }\n",
       "</style>\n",
       "<table border=\"1\" class=\"dataframe\">\n",
       "  <thead>\n",
       "    <tr style=\"text-align: right;\">\n",
       "      <th></th>\n",
       "      <th>id</th>\n",
       "      <th>Name</th>\n",
       "      <th>Gender</th>\n",
       "      <th>Age</th>\n",
       "      <th>Height</th>\n",
       "      <th>Weight</th>\n",
       "      <th>Team</th>\n",
       "      <th>NOC</th>\n",
       "      <th>Games</th>\n",
       "      <th>Year</th>\n",
       "      <th>Season</th>\n",
       "      <th>City</th>\n",
       "      <th>Sport</th>\n",
       "      <th>Event</th>\n",
       "      <th>Medal</th>\n",
       "    </tr>\n",
       "  </thead>\n",
       "  <tbody>\n",
       "  </tbody>\n",
       "</table>\n",
       "</div>"
      ]
     },
     "execution_count": 112,
     "metadata": {},
     "output_type": "execute_result"
    }
   ],
   "execution_count": 112
  },
  {
   "metadata": {},
   "cell_type": "markdown",
   "source": [
    "# Zaman Serilerine göre veri Analizi\n",
    "   - Yıllara göre ortalama yaş,boy,kilo değişimi\n",
    "   - Yıllara göre ortalama madalya sayısı"
   ],
   "id": "b42988fe3a5c1286"
  },
  {
   "metadata": {
    "ExecuteTime": {
     "end_time": "2025-01-24T13:39:14.112218Z",
     "start_time": "2025-01-24T13:39:14.102021Z"
    }
   },
   "cell_type": "code",
   "source": [
    "data_time = df.copy()\n",
    "unique_years = data_time.Year.unique()\n",
    "sorted_array = np.sort(unique_years)\n",
    "sorted_array"
   ],
   "id": "c4e81211077e006c",
   "outputs": [
    {
     "data": {
      "text/plain": [
       "array([1896, 1900, 1904, 1906, 1908, 1912, 1920, 1924, 1928, 1932, 1936,\n",
       "       1948, 1952, 1956, 1960, 1964, 1968, 1972, 1976, 1980, 1984, 1988,\n",
       "       1992, 1994, 1996, 1998, 2000, 2002, 2004, 2006, 2008, 2010, 2012,\n",
       "       2014, 2016], dtype=int64)"
      ]
     },
     "execution_count": 121,
     "metadata": {},
     "output_type": "execute_result"
    }
   ],
   "execution_count": 121
  },
  {
   "metadata": {
    "ExecuteTime": {
     "end_time": "2025-01-24T13:40:49.222124Z",
     "start_time": "2025-01-24T13:40:49.103622Z"
    }
   },
   "cell_type": "code",
   "source": [
    "plt.figure()\n",
    "plt.scatter(range(len(sorted_array)), sorted_array)\n",
    "plt.grid(True)\n",
    "plt.ylabel(\"Year\")\n",
    "plt.show()"
   ],
   "id": "2e319555ba82732d",
   "outputs": [
    {
     "data": {
      "text/plain": [
       "<Figure size 640x480 with 1 Axes>"
      ],
      "image/png": "[encoded data removed]"
     },
     "metadata": {},
     "output_type": "display_data"
    }
   ],
   "execution_count": 123
  },
  {
   "metadata": {},
   "cell_type": "markdown",
   "source": "# Veri içerisinde bulunan verileri datetime veri tipine dönüştür",
   "id": "6ef931930a5f26c2"
  },
  {
   "metadata": {
    "ExecuteTime": {
     "end_time": "2025-01-24T13:42:11.784136Z",
     "start_time": "2025-01-24T13:42:11.750645Z"
    }
   },
   "cell_type": "code",
   "source": [
    "data_time[\"Year\"] = pd.to_datetime(data_time[\"Year\"])\n",
    "data_time"
   ],
   "id": "2192a036630713f3",
   "outputs": [
    {
     "data": {
      "text/plain": [
       "           id                                 Name Gender   Age      Height  \\\n",
       "0           4                 Edgar Lindenau Aabye      M  34.0  182.480000   \n",
       "1          15                 Arvo Ossian Aaltonen      M  30.0  182.008432   \n",
       "2          15                 Arvo Ossian Aaltonen      M  30.0  177.000000   \n",
       "3          16             Juhamatti Tapio Aaltonen      M  28.0  184.000000   \n",
       "4          17              Paavo Johannes Aaltonen      M  28.0  175.000000   \n",
       "...       ...                                  ...    ...   ...         ...   \n",
       "39778  135553  Galina Ivanovna Zybina (-Fyodorova)      F  25.0  168.000000   \n",
       "39779  135553  Galina Ivanovna Zybina (-Fyodorova)      F  33.0  168.000000   \n",
       "39780  135554                         Bogusaw Zych      M  28.0  182.000000   \n",
       "39781  135563            Olesya Nikolayevna Zykina      F  19.0  171.000000   \n",
       "39782  135563            Olesya Nikolayevna Zykina      F  23.0  171.000000   \n",
       "\n",
       "          Weight            Team  NOC        Games  \\\n",
       "0      95.615385  Denmark/Sweden  DEN  1900 Summer   \n",
       "1      76.694056         Finland  FIN  1920 Summer   \n",
       "2      75.000000         Finland  FIN  1920 Summer   \n",
       "3      85.000000         Finland  FIN  2014 Winter   \n",
       "4      64.000000         Finland  FIN  1948 Summer   \n",
       "...          ...             ...  ...          ...   \n",
       "39778  80.000000    Soviet Union  URS  1956 Summer   \n",
       "39779  80.000000    Soviet Union  URS  1964 Summer   \n",
       "39780  82.000000          Poland  POL  1980 Summer   \n",
       "39781  64.000000          Russia  RUS  2000 Summer   \n",
       "39782  64.000000          Russia  RUS  2004 Summer   \n",
       "\n",
       "                               Year  Season       City       Sport  \\\n",
       "0     1970-01-01 00:00:00.000001900  Summer      Paris  Tug-Of-War   \n",
       "1     1970-01-01 00:00:00.000001920  Summer  Antwerpen    Swimming   \n",
       "2     1970-01-01 00:00:00.000001920  Summer  Antwerpen    Swimming   \n",
       "3     1970-01-01 00:00:00.000002014  Winter      Sochi  Ice Hockey   \n",
       "4     1970-01-01 00:00:00.000001948  Summer     London  Gymnastics   \n",
       "...                             ...     ...        ...         ...   \n",
       "39778 1970-01-01 00:00:00.000001956  Summer  Melbourne   Athletics   \n",
       "39779 1970-01-01 00:00:00.000001964  Summer      Tokyo   Athletics   \n",
       "39780 1970-01-01 00:00:00.000001980  Summer     Moskva     Fencing   \n",
       "39781 1970-01-01 00:00:00.000002000  Summer     Sydney   Athletics   \n",
       "39782 1970-01-01 00:00:00.000002004  Summer     Athina   Athletics   \n",
       "\n",
       "                                        Event   Medal  \n",
       "0                 Tug-Of-War Men's Tug-Of-War    Gold  \n",
       "1      Swimming Men's 200 metres Breaststroke  Bronze  \n",
       "2      Swimming Men's 400 metres Breaststroke  Bronze  \n",
       "3                 Ice Hockey Men's Ice Hockey  Bronze  \n",
       "4      Gymnastics Men's Individual All-Around  Bronze  \n",
       "...                                       ...     ...  \n",
       "39778              Athletics Women's Shot Put  Silver  \n",
       "39779              Athletics Women's Shot Put  Bronze  \n",
       "39780                Fencing Men's Foil, Team  Bronze  \n",
       "39781  Athletics Women's 4 x 400 metres Relay  Bronze  \n",
       "39782  Athletics Women's 4 x 400 metres Relay  Silver  \n",
       "\n",
       "[39783 rows x 15 columns]"
      ],
      "text/html": [
       "<div>\n",
       "<style scoped>\n",
       "    .dataframe tbody tr th:only-of-type {\n",
       "        vertical-align: middle;\n",
       "    }\n",
       "\n",
       "    .dataframe tbody tr th {\n",
       "        vertical-align: top;\n",
       "    }\n",
       "\n",
       "    .dataframe thead th {\n",
       "        text-align: right;\n",
       "    }\n",
       "</style>\n",
       "<table border=\"1\" class=\"dataframe\">\n",
       "  <thead>\n",
       "    <tr style=\"text-align: right;\">\n",
       "      <th></th>\n",
       "      <th>id</th>\n",
       "      <th>Name</th>\n",
       "      <th>Gender</th>\n",
       "      <th>Age</th>\n",
       "      <th>Height</th>\n",
       "      <th>Weight</th>\n",
       "      <th>Team</th>\n",
       "      <th>NOC</th>\n",
       "      <th>Games</th>\n",
       "      <th>Year</th>\n",
       "      <th>Season</th>\n",
       "      <th>City</th>\n",
       "      <th>Sport</th>\n",
       "      <th>Event</th>\n",
       "      <th>Medal</th>\n",
       "    </tr>\n",
       "  </thead>\n",
       "  <tbody>\n",
       "    <tr>\n",
       "      <th>0</th>\n",
       "      <td>4</td>\n",
       "      <td>Edgar Lindenau Aabye</td>\n",
       "      <td>M</td>\n",
       "      <td>34.0</td>\n",
       "      <td>182.480000</td>\n",
       "      <td>95.615385</td>\n",
       "      <td>Denmark/Sweden</td>\n",
       "      <td>DEN</td>\n",
       "      <td>1900 Summer</td>\n",
       "      <td>1970-01-01 00:00:00.000001900</td>\n",
       "      <td>Summer</td>\n",
       "      <td>Paris</td>\n",
       "      <td>Tug-Of-War</td>\n",
       "      <td>Tug-Of-War Men's Tug-Of-War</td>\n",
       "      <td>Gold</td>\n",
       "    </tr>\n",
       "    <tr>\n",
       "      <th>1</th>\n",
       "      <td>15</td>\n",
       "      <td>Arvo Ossian Aaltonen</td>\n",
       "      <td>M</td>\n",
       "      <td>30.0</td>\n",
       "      <td>182.008432</td>\n",
       "      <td>76.694056</td>\n",
       "      <td>Finland</td>\n",
       "      <td>FIN</td>\n",
       "      <td>1920 Summer</td>\n",
       "      <td>1970-01-01 00:00:00.000001920</td>\n",
       "      <td>Summer</td>\n",
       "      <td>Antwerpen</td>\n",
       "      <td>Swimming</td>\n",
       "      <td>Swimming Men's 200 metres Breaststroke</td>\n",
       "      <td>Bronze</td>\n",
       "    </tr>\n",
       "    <tr>\n",
       "      <th>2</th>\n",
       "      <td>15</td>\n",
       "      <td>Arvo Ossian Aaltonen</td>\n",
       "      <td>M</td>\n",
       "      <td>30.0</td>\n",
       "      <td>177.000000</td>\n",
       "      <td>75.000000</td>\n",
       "      <td>Finland</td>\n",
       "      <td>FIN</td>\n",
       "      <td>1920 Summer</td>\n",
       "      <td>1970-01-01 00:00:00.000001920</td>\n",
       "      <td>Summer</td>\n",
       "      <td>Antwerpen</td>\n",
       "      <td>Swimming</td>\n",
       "      <td>Swimming Men's 400 metres Breaststroke</td>\n",
       "      <td>Bronze</td>\n",
       "    </tr>\n",
       "    <tr>\n",
       "      <th>3</th>\n",
       "      <td>16</td>\n",
       "      <td>Juhamatti Tapio Aaltonen</td>\n",
       "      <td>M</td>\n",
       "      <td>28.0</td>\n",
       "      <td>184.000000</td>\n",
       "      <td>85.000000</td>\n",
       "      <td>Finland</td>\n",
       "      <td>FIN</td>\n",
       "      <td>2014 Winter</td>\n",
       "      <td>1970-01-01 00:00:00.000002014</td>\n",
       "      <td>Winter</td>\n",
       "      <td>Sochi</td>\n",
       "      <td>Ice Hockey</td>\n",
       "      <td>Ice Hockey Men's Ice Hockey</td>\n",
       "      <td>Bronze</td>\n",
       "    </tr>\n",
       "    <tr>\n",
       "      <th>4</th>\n",
       "      <td>17</td>\n",
       "      <td>Paavo Johannes Aaltonen</td>\n",
       "      <td>M</td>\n",
       "      <td>28.0</td>\n",
       "      <td>175.000000</td>\n",
       "      <td>64.000000</td>\n",
       "      <td>Finland</td>\n",
       "      <td>FIN</td>\n",
       "      <td>1948 Summer</td>\n",
       "      <td>1970-01-01 00:00:00.000001948</td>\n",
       "      <td>Summer</td>\n",
       "      <td>London</td>\n",
       "      <td>Gymnastics</td>\n",
       "      <td>Gymnastics Men's Individual All-Around</td>\n",
       "      <td>Bronze</td>\n",
       "    </tr>\n",
       "    <tr>\n",
       "      <th>...</th>\n",
       "      <td>...</td>\n",
       "      <td>...</td>\n",
       "      <td>...</td>\n",
       "      <td>...</td>\n",
       "      <td>...</td>\n",
       "      <td>...</td>\n",
       "      <td>...</td>\n",
       "      <td>...</td>\n",
       "      <td>...</td>\n",
       "      <td>...</td>\n",
       "      <td>...</td>\n",
       "      <td>...</td>\n",
       "      <td>...</td>\n",
       "      <td>...</td>\n",
       "      <td>...</td>\n",
       "    </tr>\n",
       "    <tr>\n",
       "      <th>39778</th>\n",
       "      <td>135553</td>\n",
       "      <td>Galina Ivanovna Zybina (-Fyodorova)</td>\n",
       "      <td>F</td>\n",
       "      <td>25.0</td>\n",
       "      <td>168.000000</td>\n",
       "      <td>80.000000</td>\n",
       "      <td>Soviet Union</td>\n",
       "      <td>URS</td>\n",
       "      <td>1956 Summer</td>\n",
       "      <td>1970-01-01 00:00:00.000001956</td>\n",
       "      <td>Summer</td>\n",
       "      <td>Melbourne</td>\n",
       "      <td>Athletics</td>\n",
       "      <td>Athletics Women's Shot Put</td>\n",
       "      <td>Silver</td>\n",
       "    </tr>\n",
       "    <tr>\n",
       "      <th>39779</th>\n",
       "      <td>135553</td>\n",
       "      <td>Galina Ivanovna Zybina (-Fyodorova)</td>\n",
       "      <td>F</td>\n",
       "      <td>33.0</td>\n",
       "      <td>168.000000</td>\n",
       "      <td>80.000000</td>\n",
       "      <td>Soviet Union</td>\n",
       "      <td>URS</td>\n",
       "      <td>1964 Summer</td>\n",
       "      <td>1970-01-01 00:00:00.000001964</td>\n",
       "      <td>Summer</td>\n",
       "      <td>Tokyo</td>\n",
       "      <td>Athletics</td>\n",
       "      <td>Athletics Women's Shot Put</td>\n",
       "      <td>Bronze</td>\n",
       "    </tr>\n",
       "    <tr>\n",
       "      <th>39780</th>\n",
       "      <td>135554</td>\n",
       "      <td>Bogusaw Zych</td>\n",
       "      <td>M</td>\n",
       "      <td>28.0</td>\n",
       "      <td>182.000000</td>\n",
       "      <td>82.000000</td>\n",
       "      <td>Poland</td>\n",
       "      <td>POL</td>\n",
       "      <td>1980 Summer</td>\n",
       "      <td>1970-01-01 00:00:00.000001980</td>\n",
       "      <td>Summer</td>\n",
       "      <td>Moskva</td>\n",
       "      <td>Fencing</td>\n",
       "      <td>Fencing Men's Foil, Team</td>\n",
       "      <td>Bronze</td>\n",
       "    </tr>\n",
       "    <tr>\n",
       "      <th>39781</th>\n",
       "      <td>135563</td>\n",
       "      <td>Olesya Nikolayevna Zykina</td>\n",
       "      <td>F</td>\n",
       "      <td>19.0</td>\n",
       "      <td>171.000000</td>\n",
       "      <td>64.000000</td>\n",
       "      <td>Russia</td>\n",
       "      <td>RUS</td>\n",
       "      <td>2000 Summer</td>\n",
       "      <td>1970-01-01 00:00:00.000002000</td>\n",
       "      <td>Summer</td>\n",
       "      <td>Sydney</td>\n",
       "      <td>Athletics</td>\n",
       "      <td>Athletics Women's 4 x 400 metres Relay</td>\n",
       "      <td>Bronze</td>\n",
       "    </tr>\n",
       "    <tr>\n",
       "      <th>39782</th>\n",
       "      <td>135563</td>\n",
       "      <td>Olesya Nikolayevna Zykina</td>\n",
       "      <td>F</td>\n",
       "      <td>23.0</td>\n",
       "      <td>171.000000</td>\n",
       "      <td>64.000000</td>\n",
       "      <td>Russia</td>\n",
       "      <td>RUS</td>\n",
       "      <td>2004 Summer</td>\n",
       "      <td>1970-01-01 00:00:00.000002004</td>\n",
       "      <td>Summer</td>\n",
       "      <td>Athina</td>\n",
       "      <td>Athletics</td>\n",
       "      <td>Athletics Women's 4 x 400 metres Relay</td>\n",
       "      <td>Silver</td>\n",
       "    </tr>\n",
       "  </tbody>\n",
       "</table>\n",
       "<p>39783 rows × 15 columns</p>\n",
       "</div>"
      ]
     },
     "execution_count": 125,
     "metadata": {},
     "output_type": "execute_result"
    }
   ],
   "execution_count": 125
  },
  {
   "metadata": {},
   "cell_type": "code",
   "outputs": [],
   "execution_count": null,
   "source": "",
   "id": "87bcbdf72435c4fb"
  }
 ],
 "metadata": {
  "kernelspec": {
   "display_name": "Python 3",
   "language": "python",
   "name": "python3"
  },
  "language_info": {
   "codemirror_mode": {
    "name": "ipython",
    "version": 2
   },
   "file_extension": ".py",
   "mimetype": "text/x-python",
   "name": "python",
   "nbconvert_exporter": "python",
   "pygments_lexer": "ipython2",
   "version": "2.7.6"
  }
 },
 "nbformat": 4,
 "nbformat_minor": 5
}
